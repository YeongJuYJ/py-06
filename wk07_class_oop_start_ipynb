{
  "nbformat": 4,
  "nbformat_minor": 0,
  "metadata": {
    "colab": {
      "name": "wk07_class_oop_start.ipynb의 사본",
      "version": "0.3.2",
      "provenance": [],
      "include_colab_link": true
    },
    "kernelspec": {
      "display_name": "Python 3",
      "language": "python",
      "name": "python3"
    }
  },
  "cells": [
    {
      "cell_type": "markdown",
      "metadata": {
        "id": "view-in-github",
        "colab_type": "text"
      },
      "source": [
        "[View in Colaboratory](https://colab.research.google.com/github/YeongJuYJ/py-06/blob/master/wk07_class_oop_start_ipynb)"
      ]
    },
    {
      "metadata": {
        "id": "1QMuAAdWDL9M",
        "colab_type": "toc"
      },
      "cell_type": "markdown",
      "source": [
        ">[Chapter 06-01](#scrollTo=PGT2zImF8oio)\n",
        "\n",
        ">>[클래스와 객체 지향 개발](#scrollTo=PGT2zImF8oio)\n",
        "\n",
        ">>[파이썬에서 클래스 사용하기](#scrollTo=wl1X_GMj8oiq)\n",
        "\n",
        ">>>[클래스로 객체(인스턴스) 만들기](#scrollTo=or6AntyZ8oiq)\n",
        "\n",
        ">>>[인스턴스 이용하기](#scrollTo=WQCzJklW8oiv)\n",
        "\n",
        ">[Chapter06-02](#scrollTo=gd2k0rnw8oi9)\n",
        "\n",
        ">>[클래스 만들기](#scrollTo=gd2k0rnw8oi9)\n",
        "\n",
        ">>>[클래스 정의하기](#scrollTo=OdMTD9u48oi-)\n",
        "\n",
        ">>>[인스턴스의 속성](#scrollTo=4_ABey8l8ojB)\n",
        "\n",
        ">>>[메쏘드의 정의와 초기화 메쏘드 ‘init( )’](#scrollTo=FfLFX0LZ8ojO)\n",
        "\n",
        ">>>[메쏘드와 제1인수 ‘self’](#scrollTo=UnyTppeo8oja)\n",
        "\n",
        ">>>[속성의 은폐](#scrollTo=w1vjToFa8ojm)\n",
        "\n",
        ">>>[다음 변수들의 차이점을 이해!](#scrollTo=ltlYhA8h8oj8)\n",
        "\n",
        ">[Chapter07-01](#scrollTo=QKQPTDXC8oj9)\n",
        "\n",
        ">>[클래스 상속과 고급 객체 지향 기능](#scrollTo=QKQPTDXC8oj9)\n",
        "\n",
        ">>[클래스를 상속한다](#scrollTo=GJaRhtHM8oj_)\n",
        "\n",
        ">>>[초기화 메쏘드의 오버라이드](#scrollTo=MBUtdxX-8okF)\n",
        "\n",
        ">>>[Solution to the above error](#scrollTo=UdUbmGQF8okT)\n",
        "\n",
        ">>>[super( )를 사용한 슈퍼클래스의 취득](#scrollTo=G8fGxiSj8okT)\n",
        "\n",
        ">>>[슬롯(Slot)](#scrollTo=AEsuWMbt8okW)\n",
        "\n",
        ">>>[프로퍼티(property)](#scrollTo=KtHHVe658okb)\n",
        "\n",
        ">>>[더미 데코레이터를 사용하면 보다 간편하게 속성을 정의 할 수 있다](#scrollTo=donMd8v18okq)\n",
        "\n",
        ">[Chapter 07-03](#scrollTo=7ASAuAKJ8okw)\n",
        "\n",
        ">>[내장형을 상속하다](#scrollTo=7ASAuAKJ8okw)\n",
        "\n",
        ">>[딕셔너리형을 상속한다](#scrollTo=DsvdOd2q8okw)\n",
        "\n",
        ">[Chapter08-01](#scrollTo=3bTaGoak8ok6)\n",
        "\n",
        ">>[모듈 파일 만들기](#scrollTo=3bTaGoak8ok6)\n",
        "\n",
        ">>>[모듈을 import하는 과정](#scrollTo=O21kn79b8ok6)\n",
        "\n",
        ">>>[파일을 실행할 때만 실행하는 블록](#scrollTo=aycLhQ4l8ok_)\n",
        "\n",
        ">>>[클래스와 모듈](#scrollTo=gAFNkH2S8ok_)\n",
        "\n",
        ">>[[wk09] homework](#scrollTo=I5VXVHIi8olH)\n",
        "\n",
        ">>>>[제출 파일명: Summary_class.ipynb](#scrollTo=I5VXVHIi8olH)\n",
        "\n"
      ]
    },
    {
      "metadata": {
        "id": "PGT2zImF8oio",
        "colab_type": "text"
      },
      "cell_type": "markdown",
      "source": [
        "# Chapter 06-01\n",
        "## 클래스와 객체 지향 개발"
      ]
    },
    {
      "metadata": {
        "id": "wl1X_GMj8oiq",
        "colab_type": "text"
      },
      "cell_type": "markdown",
      "source": [
        "## 파이썬에서 클래스 사용하기"
      ]
    },
    {
      "metadata": {
        "id": "or6AntyZ8oiq",
        "colab_type": "text"
      },
      "cell_type": "markdown",
      "source": [
        "### 클래스로 객체(인스턴스) 만들기"
      ]
    },
    {
      "metadata": {
        "id": "FSfHbCf98oir",
        "colab_type": "code",
        "colab": {}
      },
      "cell_type": "code",
      "source": [
        "# Decimal 클래스를 사용할 준비\n",
        "from decimal import Decimal"
      ],
      "execution_count": 0,
      "outputs": []
    },
    {
      "metadata": {
        "id": "n16pGHgS8oit",
        "colab_type": "code",
        "colab": {
          "base_uri": "https://localhost:8080/",
          "height": 35
        },
        "outputId": "b43b6b9c-0c66-43c1-a464-1c7b160db75b"
      },
      "cell_type": "code",
      "source": [
        "# Deciaml 클래스 사용하기\n",
        "d = Decimal(10)    # Deciaml 클래스의 인스턴스 만들기\n",
        "print(d)"
      ],
      "execution_count": 2,
      "outputs": [
        {
          "output_type": "stream",
          "text": [
            "10\n"
          ],
          "name": "stdout"
        }
      ]
    },
    {
      "metadata": {
        "id": "WQCzJklW8oiv",
        "colab_type": "text"
      },
      "cell_type": "markdown",
      "source": [
        "### 인스턴스 이용하기"
      ]
    },
    {
      "metadata": {
        "id": "WrGvOLWy8oiw",
        "colab_type": "code",
        "colab": {
          "base_uri": "https://localhost:8080/",
          "height": 35
        },
        "outputId": "d2de54b7-6313-4d81-adda-a1cbb2d3f05b"
      },
      "cell_type": "code",
      "source": [
        "# 인스턴스를 사용한 연산\n",
        "print(d+20)        # Decimal 클래스 인스턴스에 수치 20 더하기"
      ],
      "execution_count": 3,
      "outputs": [
        {
          "output_type": "stream",
          "text": [
            "30\n"
          ],
          "name": "stdout"
        }
      ]
    },
    {
      "metadata": {
        "id": "RMqY-3PQ8oiy",
        "colab_type": "code",
        "colab": {
          "base_uri": "https://localhost:8080/",
          "height": 35
        },
        "outputId": "d7178391-2d7b-4e24-f10d-3ea8fee7c8e3"
      },
      "cell_type": "code",
      "source": [
        "# Decimal형을 사용한 비교\n",
        "0.1*3 == 0.3    # 0.1에 3을 곱해서 0.3과 비교 (실수 연산이 파이썬의 기본 연산 방법)"
      ],
      "execution_count": 4,
      "outputs": [
        {
          "output_type": "execute_result",
          "data": {
            "text/plain": [
              "False"
            ]
          },
          "metadata": {
            "tags": []
          },
          "execution_count": 4
        }
      ]
    },
    {
      "metadata": {
        "id": "dlLXiGfj8oi0",
        "colab_type": "code",
        "colab": {
          "base_uri": "https://localhost:8080/",
          "height": 35
        },
        "outputId": "880aecac-5a40-4495-f0f4-5b9bfb676bed"
      },
      "cell_type": "code",
      "source": [
        "0.1*3 #,Decimal(\"0.1\")*3"
      ],
      "execution_count": 5,
      "outputs": [
        {
          "output_type": "execute_result",
          "data": {
            "text/plain": [
              "0.30000000000000004"
            ]
          },
          "metadata": {
            "tags": []
          },
          "execution_count": 5
        }
      ]
    },
    {
      "metadata": {
        "id": "rWe-fkX38oi2",
        "colab_type": "code",
        "colab": {
          "base_uri": "https://localhost:8080/",
          "height": 35
        },
        "outputId": "2e898163-c8d2-4721-96f2-1a57e2791e6e"
      },
      "cell_type": "code",
      "source": [
        "# Decimal형을 사용해야 예상대로 비교\n",
        "Decimal(\"0.1\")*3 == Decimal(\"0.3\") #, Decimal(\"0.1\")*3 == 0.3"
      ],
      "execution_count": 6,
      "outputs": [
        {
          "output_type": "execute_result",
          "data": {
            "text/plain": [
              "True"
            ]
          },
          "metadata": {
            "tags": []
          },
          "execution_count": 6
        }
      ]
    },
    {
      "metadata": {
        "id": "2kLZT97L8oi3",
        "colab_type": "code",
        "colab": {
          "base_uri": "https://localhost:8080/",
          "height": 35
        },
        "outputId": "dc7db0c3-abb8-42c6-ad34-5b5a86e15ba0"
      },
      "cell_type": "code",
      "source": [
        "# 제곱근 계산하기 d(10)\n",
        "print(d.sqrt())    # 인스턴스 d에 sqrt() 메쏘드를 사용함 (Decimal class에 내장된 sqrt() 사용)"
      ],
      "execution_count": 7,
      "outputs": [
        {
          "output_type": "stream",
          "text": [
            "3.162277660168379331998893544\n"
          ],
          "name": "stdout"
        }
      ]
    },
    {
      "metadata": {
        "id": "f6nUWUcZ8oi7",
        "colab_type": "code",
        "colab": {
          "base_uri": "https://localhost:8080/",
          "height": 172
        },
        "outputId": "80e6e9f9-7cad-4cc7-9197-f0752f1d6b6a"
      },
      "cell_type": "code",
      "source": [
        "sqrt(10)"
      ],
      "execution_count": 8,
      "outputs": [
        {
          "output_type": "error",
          "ename": "NameError",
          "evalue": "ignored",
          "traceback": [
            "\u001b[0;31m---------------------------------------------------------------------------\u001b[0m",
            "\u001b[0;31mNameError\u001b[0m                                 Traceback (most recent call last)",
            "\u001b[0;32m<ipython-input-8-0c2ba68b944d>\u001b[0m in \u001b[0;36m<module>\u001b[0;34m()\u001b[0m\n\u001b[0;32m----> 1\u001b[0;31m \u001b[0msqrt\u001b[0m\u001b[0;34m(\u001b[0m\u001b[0;36m10\u001b[0m\u001b[0;34m)\u001b[0m\u001b[0;34m\u001b[0m\u001b[0m\n\u001b[0m",
            "\u001b[0;31mNameError\u001b[0m: name 'sqrt' is not defined"
          ]
        }
      ]
    },
    {
      "metadata": {
        "id": "gd2k0rnw8oi9",
        "colab_type": "text"
      },
      "cell_type": "markdown",
      "source": [
        "# Chapter06-02\n",
        "## 클래스 만들기"
      ]
    },
    {
      "metadata": {
        "id": "OdMTD9u48oi-",
        "colab_type": "text"
      },
      "cell_type": "markdown",
      "source": [
        "### 클래스 정의하기"
      ]
    },
    {
      "metadata": {
        "id": "7PgviqUY8oi_",
        "colab_type": "code",
        "colab": {}
      },
      "cell_type": "code",
      "source": [
        "# MyClass 클래스를 정의한다\n",
        "class MyClass:     # 클래스 정의\n",
        "    pass           # 처리 내용을 기술함"
      ],
      "execution_count": 0,
      "outputs": []
    },
    {
      "metadata": {
        "id": "stDTR00z8ojA",
        "colab_type": "text"
      },
      "cell_type": "markdown",
      "source": [
        "> pass 문은 아무것도 하지 않습니다. 최소한의 클래스를 만들 때 흔히 사용된다:"
      ]
    },
    {
      "metadata": {
        "id": "4_ABey8l8ojB",
        "colab_type": "text"
      },
      "cell_type": "markdown",
      "source": [
        "### 인스턴스의 속성"
      ]
    },
    {
      "metadata": {
        "id": "b1p7RgXO8ojC",
        "colab_type": "code",
        "colab": {}
      },
      "cell_type": "code",
      "source": [
        "# MyClass 인스턴스 만들기\n",
        "i = MyClass()   # 변수에 인스턴스를 대입함"
      ],
      "execution_count": 0,
      "outputs": []
    },
    {
      "metadata": {
        "id": "ZfnNNBny8ojE",
        "colab_type": "code",
        "colab": {
          "base_uri": "https://localhost:8080/",
          "height": 35
        },
        "outputId": "1c6e3719-5155-4fe1-e450-84081d20e278"
      },
      "cell_type": "code",
      "source": [
        "# 속성을 이용한다\n",
        "i.value = 5     # value라는 이름의 속성에 수치를 대입\n",
        "i.value         # 속성 값을 표시"
      ],
      "execution_count": 11,
      "outputs": [
        {
          "output_type": "execute_result",
          "data": {
            "text/plain": [
              "5"
            ]
          },
          "metadata": {
            "tags": []
          },
          "execution_count": 11
        }
      ]
    },
    {
      "metadata": {
        "id": "E6sRaxm58ojF",
        "colab_type": "code",
        "colab": {
          "base_uri": "https://localhost:8080/",
          "height": 172
        },
        "outputId": "e7aa2cb2-ada2-4968-9649-462a1ee5b5b2"
      },
      "cell_type": "code",
      "source": [
        "# 미정의(정의되지 않은) 속성 참조\n",
        "i.py, i.undefined"
      ],
      "execution_count": 13,
      "outputs": [
        {
          "output_type": "error",
          "ename": "AttributeError",
          "evalue": "ignored",
          "traceback": [
            "\u001b[0;31m---------------------------------------------------------------------------\u001b[0m",
            "\u001b[0;31mAttributeError\u001b[0m                            Traceback (most recent call last)",
            "\u001b[0;32m<ipython-input-13-934a87501da9>\u001b[0m in \u001b[0;36m<module>\u001b[0;34m()\u001b[0m\n\u001b[0;32m----> 1\u001b[0;31m \u001b[0mi\u001b[0m\u001b[0;34m.\u001b[0m\u001b[0mpy\u001b[0m\u001b[0;34m,\u001b[0m \u001b[0mi\u001b[0m\u001b[0;34m.\u001b[0m\u001b[0mundefined\u001b[0m\u001b[0;34m\u001b[0m\u001b[0m\n\u001b[0m",
            "\u001b[0;31mAttributeError\u001b[0m: 'MyClass' object has no attribute 'py'"
          ]
        }
      ]
    },
    {
      "metadata": {
        "id": "xatViieC8ojH",
        "colab_type": "code",
        "colab": {
          "base_uri": "https://localhost:8080/",
          "height": 136
        },
        "outputId": "965d42d1-8ce0-4b64-c2ad-f1ab7559b12e"
      },
      "cell_type": "code",
      "source": [
        "# 속성은 인스턴스마다 존재한다\n",
        "i2 = MyClass()   # MyClass의 인스턴스를 별도로 정의\n",
        "i2.value         # value 속성을 참조하려고 하면\n",
        "　　　　　　　　　    # 정의되지 않았으므로 오류가 발생"
      ],
      "execution_count": 14,
      "outputs": [
        {
          "output_type": "error",
          "ename": "SyntaxError",
          "evalue": "ignored",
          "traceback": [
            "\u001b[0;36m  File \u001b[0;32m\"<ipython-input-14-aa4a34ddac93>\"\u001b[0;36m, line \u001b[0;32m3\u001b[0m\n\u001b[0;31m    # 정의되지 않았으므로 오류가 발생\u001b[0m\n\u001b[0m    ^\u001b[0m\n\u001b[0;31mSyntaxError\u001b[0m\u001b[0;31m:\u001b[0m invalid character in identifier\n"
          ]
        }
      ]
    },
    {
      "metadata": {
        "id": "rCNuu_Xa8ojI",
        "colab_type": "code",
        "colab": {
          "base_uri": "https://localhost:8080/",
          "height": 35
        },
        "outputId": "042486a8-84d1-454e-b07e-0b68083c9400"
      },
      "cell_type": "code",
      "source": [
        "i.value"
      ],
      "execution_count": 15,
      "outputs": [
        {
          "output_type": "execute_result",
          "data": {
            "text/plain": [
              "5"
            ]
          },
          "metadata": {
            "tags": []
          },
          "execution_count": 15
        }
      ]
    },
    {
      "metadata": {
        "id": "tqDtu86-8ojK",
        "colab_type": "code",
        "colab": {
          "base_uri": "https://localhost:8080/",
          "height": 35
        },
        "outputId": "2f40bd12-a008-4c56-91a2-29fd8e5d2e1a"
      },
      "cell_type": "code",
      "source": [
        "type(i)"
      ],
      "execution_count": 16,
      "outputs": [
        {
          "output_type": "execute_result",
          "data": {
            "text/plain": [
              "__main__.MyClass"
            ]
          },
          "metadata": {
            "tags": []
          },
          "execution_count": 16
        }
      ]
    },
    {
      "metadata": {
        "id": "Cq7arCkx8ojM",
        "colab_type": "code",
        "colab": {
          "base_uri": "https://localhost:8080/",
          "height": 971
        },
        "outputId": "397203f6-a327-435c-c9be-dcd4d1aac550"
      },
      "cell_type": "code",
      "source": [
        "dir(MyClass),dir(i)"
      ],
      "execution_count": 17,
      "outputs": [
        {
          "output_type": "execute_result",
          "data": {
            "text/plain": [
              "(['__class__',\n",
              "  '__delattr__',\n",
              "  '__dict__',\n",
              "  '__dir__',\n",
              "  '__doc__',\n",
              "  '__eq__',\n",
              "  '__format__',\n",
              "  '__ge__',\n",
              "  '__getattribute__',\n",
              "  '__gt__',\n",
              "  '__hash__',\n",
              "  '__init__',\n",
              "  '__init_subclass__',\n",
              "  '__le__',\n",
              "  '__lt__',\n",
              "  '__module__',\n",
              "  '__ne__',\n",
              "  '__new__',\n",
              "  '__reduce__',\n",
              "  '__reduce_ex__',\n",
              "  '__repr__',\n",
              "  '__setattr__',\n",
              "  '__sizeof__',\n",
              "  '__str__',\n",
              "  '__subclasshook__',\n",
              "  '__weakref__'],\n",
              " ['__class__',\n",
              "  '__delattr__',\n",
              "  '__dict__',\n",
              "  '__dir__',\n",
              "  '__doc__',\n",
              "  '__eq__',\n",
              "  '__format__',\n",
              "  '__ge__',\n",
              "  '__getattribute__',\n",
              "  '__gt__',\n",
              "  '__hash__',\n",
              "  '__init__',\n",
              "  '__init_subclass__',\n",
              "  '__le__',\n",
              "  '__lt__',\n",
              "  '__module__',\n",
              "  '__ne__',\n",
              "  '__new__',\n",
              "  '__reduce__',\n",
              "  '__reduce_ex__',\n",
              "  '__repr__',\n",
              "  '__setattr__',\n",
              "  '__sizeof__',\n",
              "  '__str__',\n",
              "  '__subclasshook__',\n",
              "  '__weakref__',\n",
              "  'value'])"
            ]
          },
          "metadata": {
            "tags": []
          },
          "execution_count": 17
        }
      ]
    },
    {
      "metadata": {
        "id": "FfLFX0LZ8ojO",
        "colab_type": "text"
      },
      "cell_type": "markdown",
      "source": [
        "### 메쏘드의 정의와 초기화 메쏘드 ‘__init__( )’"
      ]
    },
    {
      "metadata": {
        "id": "udT_w3r-8ojP",
        "colab_type": "code",
        "colab": {}
      },
      "cell_type": "code",
      "source": [
        "# 초기화 메쏘드를 가진 클래스 정의\n",
        "class MyClass2:\n",
        "    def __init__(self):   # 초기화 메쏘드를 정의\n",
        "        self.value = 0    # 인스턴스에 속성을 추가\n",
        "        print(\"This is __init__() method !\")"
      ],
      "execution_count": 0,
      "outputs": []
    },
    {
      "metadata": {
        "id": "nFPW7Oc-8ojT",
        "colab_type": "code",
        "colab": {
          "base_uri": "https://localhost:8080/",
          "height": 35
        },
        "outputId": "f1f2a7ae-c4be-4465-b500-23ee10adb614"
      },
      "cell_type": "code",
      "source": [
        "# MyClass2 클래스 사용하기\n",
        "i3 = MyClass2()           # 인스턴스를 만듦"
      ],
      "execution_count": 20,
      "outputs": [
        {
          "output_type": "stream",
          "text": [
            "This is __init__() method !\n"
          ],
          "name": "stdout"
        }
      ]
    },
    {
      "metadata": {
        "id": "LR-Ju_JJ8ojW",
        "colab_type": "code",
        "colab": {
          "base_uri": "https://localhost:8080/",
          "height": 35
        },
        "outputId": "cb7c5167-4f7f-4dc6-f05f-bf1ef6b0ac45"
      },
      "cell_type": "code",
      "source": [
        "i3.value                  # 인스턴스의 속성을 표시함"
      ],
      "execution_count": 21,
      "outputs": [
        {
          "output_type": "execute_result",
          "data": {
            "text/plain": [
              "0"
            ]
          },
          "metadata": {
            "tags": []
          },
          "execution_count": 21
        }
      ]
    },
    {
      "metadata": {
        "id": "fdX2CWat8ojY",
        "colab_type": "code",
        "colab": {
          "base_uri": "https://localhost:8080/",
          "height": 503
        },
        "outputId": "77762ae8-c2c8-43e4-e32c-ff2bfb63fc0c"
      },
      "cell_type": "code",
      "source": [
        "dir(i3)"
      ],
      "execution_count": 22,
      "outputs": [
        {
          "output_type": "execute_result",
          "data": {
            "text/plain": [
              "['__class__',\n",
              " '__delattr__',\n",
              " '__dict__',\n",
              " '__dir__',\n",
              " '__doc__',\n",
              " '__eq__',\n",
              " '__format__',\n",
              " '__ge__',\n",
              " '__getattribute__',\n",
              " '__gt__',\n",
              " '__hash__',\n",
              " '__init__',\n",
              " '__init_subclass__',\n",
              " '__le__',\n",
              " '__lt__',\n",
              " '__module__',\n",
              " '__ne__',\n",
              " '__new__',\n",
              " '__reduce__',\n",
              " '__reduce_ex__',\n",
              " '__repr__',\n",
              " '__setattr__',\n",
              " '__sizeof__',\n",
              " '__str__',\n",
              " '__subclasshook__',\n",
              " '__weakref__',\n",
              " 'value']"
            ]
          },
          "metadata": {
            "tags": []
          },
          "execution_count": 22
        }
      ]
    },
    {
      "metadata": {
        "id": "UnyTppeo8oja",
        "colab_type": "text"
      },
      "cell_type": "markdown",
      "source": [
        "### 메쏘드와 제1인수 ‘self’"
      ]
    },
    {
      "metadata": {
        "id": "suKNGQFY8oja",
        "colab_type": "code",
        "colab": {}
      },
      "cell_type": "code",
      "source": [
        "# Prism클래스의 정의\n",
        "class Prism:\n",
        "    def __init__(self, width, height, depth):\n",
        "        # 초기화 메쏘드를 정의\n",
        "        self.width = width    # 인수를 속성에 할당\n",
        "        self.height = height\n",
        "        self.depth = depth\n",
        "\n",
        "    def content(self):\n",
        "        # 부피를 계산함\n",
        "        return self.width*self.height*self.depth"
      ],
      "execution_count": 0,
      "outputs": []
    },
    {
      "metadata": {
        "id": "B5mzeGcx8ojb",
        "colab_type": "code",
        "colab": {
          "base_uri": "https://localhost:8080/",
          "height": 35
        },
        "outputId": "30efa330-4419-4e21-bc15-9b3706c8c07d"
      },
      "cell_type": "code",
      "source": [
        "# Prism 클래스 사용하기\n",
        "p1 = Prism(10, 20, 30)\n",
        "print(p1.content())"
      ],
      "execution_count": 26,
      "outputs": [
        {
          "output_type": "stream",
          "text": [
            "6000\n"
          ],
          "name": "stdout"
        }
      ]
    },
    {
      "metadata": {
        "id": "FN9cOK0Z8oje",
        "colab_type": "code",
        "colab": {
          "base_uri": "https://localhost:8080/",
          "height": 35
        },
        "outputId": "7c5390c6-3125-45c0-bc28-3e5a12070cc3"
      },
      "cell_type": "code",
      "source": [
        "# 다른 수치를 지정해서 인스턴스 만들기\n",
        "p2 = Prism(50, 60, 70)   # 인수를 바꿈\n",
        "print(p2.content())      # 변경한 인수로 부피를 계산함"
      ],
      "execution_count": 27,
      "outputs": [
        {
          "output_type": "stream",
          "text": [
            "210000\n"
          ],
          "name": "stdout"
        }
      ]
    },
    {
      "metadata": {
        "id": "EalAo17g8oje",
        "colab_type": "code",
        "colab": {
          "base_uri": "https://localhost:8080/",
          "height": 35
        },
        "outputId": "2b468db6-9f08-4a0a-c6e4-fa0070e9f94d"
      },
      "cell_type": "code",
      "source": [
        "# 인스턴스로부터 속성을 읽어 내기\n",
        "p1.height"
      ],
      "execution_count": 28,
      "outputs": [
        {
          "output_type": "execute_result",
          "data": {
            "text/plain": [
              "20"
            ]
          },
          "metadata": {
            "tags": []
          },
          "execution_count": 28
        }
      ]
    },
    {
      "metadata": {
        "id": "knPwec_98ojg",
        "colab_type": "code",
        "colab": {
          "base_uri": "https://localhost:8080/",
          "height": 35
        },
        "outputId": "bc60a7ed-c632-4d6d-987b-34362767b431"
      },
      "cell_type": "code",
      "source": [
        "# 다른 인스턴스의 속성에는 다른 값이 들어있음\n",
        "p2.height"
      ],
      "execution_count": 29,
      "outputs": [
        {
          "output_type": "execute_result",
          "data": {
            "text/plain": [
              "60"
            ]
          },
          "metadata": {
            "tags": []
          },
          "execution_count": 29
        }
      ]
    },
    {
      "metadata": {
        "id": "wsKz2sJd8oji",
        "colab_type": "code",
        "colab": {
          "base_uri": "https://localhost:8080/",
          "height": 35
        },
        "outputId": "c2ad8dbc-18fa-48c2-e76f-d3d425dc10c5"
      },
      "cell_type": "code",
      "source": [
        "# 속성 바꾸기\n",
        "p1.height = 50\n",
        "print(p1.content())    # 부피를 계산함"
      ],
      "execution_count": 30,
      "outputs": [
        {
          "output_type": "stream",
          "text": [
            "15000\n"
          ],
          "name": "stdout"
        }
      ]
    },
    {
      "metadata": {
        "id": "oRTnKFUe8ojj",
        "colab_type": "code",
        "colab": {
          "base_uri": "https://localhost:8080/",
          "height": 557
        },
        "outputId": "89e10a72-ee73-497e-840f-7398c4fd62d3"
      },
      "cell_type": "code",
      "source": [
        "dir(p1)"
      ],
      "execution_count": 33,
      "outputs": [
        {
          "output_type": "execute_result",
          "data": {
            "text/plain": [
              "['__class__',\n",
              " '__delattr__',\n",
              " '__dict__',\n",
              " '__dir__',\n",
              " '__doc__',\n",
              " '__eq__',\n",
              " '__format__',\n",
              " '__ge__',\n",
              " '__getattribute__',\n",
              " '__gt__',\n",
              " '__hash__',\n",
              " '__init__',\n",
              " '__init_subclass__',\n",
              " '__le__',\n",
              " '__lt__',\n",
              " '__module__',\n",
              " '__ne__',\n",
              " '__new__',\n",
              " '__reduce__',\n",
              " '__reduce_ex__',\n",
              " '__repr__',\n",
              " '__setattr__',\n",
              " '__sizeof__',\n",
              " '__str__',\n",
              " '__subclasshook__',\n",
              " '__weakref__',\n",
              " 'content',\n",
              " 'depth',\n",
              " 'height',\n",
              " 'width']"
            ]
          },
          "metadata": {
            "tags": []
          },
          "execution_count": 33
        }
      ]
    },
    {
      "metadata": {
        "id": "w1vjToFa8ojm",
        "colab_type": "text"
      },
      "cell_type": "markdown",
      "source": [
        "### 속성의 은폐"
      ]
    },
    {
      "metadata": {
        "id": "zRzjisu38ojn",
        "colab_type": "code",
        "colab": {
          "base_uri": "https://localhost:8080/",
          "height": 35
        },
        "outputId": "caa44857-6f48-49e8-91f1-8a98ea57f586"
      },
      "cell_type": "code",
      "source": [
        "# 다른 자료형을 대입해 본다\n",
        "p = Prism(10, 20, 30)\n",
        "p.width               # 가로폭을 표시"
      ],
      "execution_count": 34,
      "outputs": [
        {
          "output_type": "execute_result",
          "data": {
            "text/plain": [
              "10"
            ]
          },
          "metadata": {
            "tags": []
          },
          "execution_count": 34
        }
      ]
    },
    {
      "metadata": {
        "id": "4pacGxQ78ojo",
        "colab_type": "code",
        "colab": {
          "base_uri": "https://localhost:8080/",
          "height": 55
        },
        "outputId": "b549d756-315b-4981-ad6e-e384192a7906"
      },
      "cell_type": "code",
      "source": [
        "p.depth = \"30\"        # 속성으로 수치가 아니라 문자열을 대입\n",
        "p.content()           # 부피를 계산함"
      ],
      "execution_count": 35,
      "outputs": [
        {
          "output_type": "execute_result",
          "data": {
            "text/plain": [
              "'3030303030303030303030303030303030303030303030303030303030303030303030303030303030303030303030303030303030303030303030303030303030303030303030303030303030303030303030303030303030303030303030303030303030303030303030303030303030303030303030303030303030303030303030303030303030303030303030303030303030303030303030303030303030303030303030303030303030303030303030303030303030303030303030303030303030303030'"
            ]
          },
          "metadata": {
            "tags": []
          },
          "execution_count": 35
        }
      ]
    },
    {
      "metadata": {
        "id": "dLb6XA_58ojr",
        "colab_type": "code",
        "colab": {
          "base_uri": "https://localhost:8080/",
          "height": 35
        },
        "outputId": "e2c0d030-a217-4c47-be80-d5f1034a33b3"
      },
      "cell_type": "code",
      "source": [
        "print(5*'A')#,print(5*A)"
      ],
      "execution_count": 39,
      "outputs": [
        {
          "output_type": "stream",
          "text": [
            "AAAAA\n"
          ],
          "name": "stdout"
        }
      ]
    },
    {
      "metadata": {
        "id": "bkGAA_-p8ojs",
        "colab_type": "code",
        "colab": {
          "base_uri": "https://localhost:8080/",
          "height": 55
        },
        "outputId": "2a9cbc1b-f76b-4e2d-b322-3fea289cb288"
      },
      "cell_type": "code",
      "source": [
        "p.depth = \"A\"        # 속성으로 수치가 아니라 문자열을 대입\n",
        "p.content()  "
      ],
      "execution_count": 40,
      "outputs": [
        {
          "output_type": "execute_result",
          "data": {
            "text/plain": [
              "'AAAAAAAAAAAAAAAAAAAAAAAAAAAAAAAAAAAAAAAAAAAAAAAAAAAAAAAAAAAAAAAAAAAAAAAAAAAAAAAAAAAAAAAAAAAAAAAAAAAAAAAAAAAAAAAAAAAAAAAAAAAAAAAAAAAAAAAAAAAAAAAAAAAAAAAAAAAAAAAAAAAAAAAAAAAAAAAAAAAAAAAAAAAAAAAAAAAAAAAA'"
            ]
          },
          "metadata": {
            "tags": []
          },
          "execution_count": 40
        }
      ]
    },
    {
      "metadata": {
        "id": "P3ojQhA28ojv",
        "colab_type": "code",
        "colab": {}
      },
      "cell_type": "code",
      "source": [
        "# \"__\"으로 속성을 은폐한 Prism 클래스를 정의 (width -> _width, or __width)\n",
        "class PrismC:\n",
        "    def __init__(self, width, height, depth):\n",
        "        # 초기화 메쏘드를 정의\n",
        "        self.__width = width    # 인수를 속성에 할당\n",
        "        self.__height = height\n",
        "        self.__depth = depth\n",
        "\n",
        "    def content(self):\n",
        "        # 부피를 계산함\n",
        "        return self.__width*self.__height*self.__depth"
      ],
      "execution_count": 0,
      "outputs": []
    },
    {
      "metadata": {
        "id": "7r0q4GKp8ojw",
        "colab_type": "code",
        "colab": {
          "base_uri": "https://localhost:8080/",
          "height": 35
        },
        "outputId": "f3e7243f-a2c1-496c-949f-464101c7d7a7"
      },
      "cell_type": "code",
      "source": [
        "p4 = PrismC(10, 20, 30)\n",
        "print(p4.content())"
      ],
      "execution_count": 42,
      "outputs": [
        {
          "output_type": "stream",
          "text": [
            "6000\n"
          ],
          "name": "stdout"
        }
      ]
    },
    {
      "metadata": {
        "id": "HMShm4yG8ojy",
        "colab_type": "code",
        "colab": {
          "base_uri": "https://localhost:8080/",
          "height": 35
        },
        "outputId": "b3247e18-78c4-4a2f-b3e8-9a2b1ddb4ad5"
      },
      "cell_type": "code",
      "source": [
        "p4.__width = 200    # 속성을 외부에서 다시 대입\n",
        "p4.content()        # 결과는 변하지 않는다 --> 무엇을 의미하는가? "
      ],
      "execution_count": 43,
      "outputs": [
        {
          "output_type": "execute_result",
          "data": {
            "text/plain": [
              "6000"
            ]
          },
          "metadata": {
            "tags": []
          },
          "execution_count": 43
        }
      ]
    },
    {
      "metadata": {
        "id": "0UYOHVHv8oj0",
        "colab_type": "code",
        "colab": {
          "base_uri": "https://localhost:8080/",
          "height": 35
        },
        "outputId": "3a7cf9e2-cff8-4915-a3a8-cb1346a206e9"
      },
      "cell_type": "code",
      "source": [
        "# 그러나 이름을 바꾸는 규칙을 알고 있다면 변경된다\n",
        "p4._PrismC__width = 300\n",
        "# p4._PrismC__depth = 500\n",
        "p4.content()"
      ],
      "execution_count": 44,
      "outputs": [
        {
          "output_type": "execute_result",
          "data": {
            "text/plain": [
              "180000"
            ]
          },
          "metadata": {
            "tags": []
          },
          "execution_count": 44
        }
      ]
    },
    {
      "metadata": {
        "id": "u-dpPGhX8oj2",
        "colab_type": "code",
        "colab": {
          "base_uri": "https://localhost:8080/",
          "height": 35
        },
        "outputId": "0e4ed291-19d7-414a-be89-e9f85ee1c5f5"
      },
      "cell_type": "code",
      "source": [
        "p4.__width#, p4.__height, p4.__depth # ?????"
      ],
      "execution_count": 45,
      "outputs": [
        {
          "output_type": "execute_result",
          "data": {
            "text/plain": [
              "200"
            ]
          },
          "metadata": {
            "tags": []
          },
          "execution_count": 45
        }
      ]
    },
    {
      "metadata": {
        "id": "jbfDGFY78oj2",
        "colab_type": "code",
        "colab": {
          "base_uri": "https://localhost:8080/",
          "height": 172
        },
        "outputId": "c021c6b1-e8d6-4c17-d289-5d8113dbfa54"
      },
      "cell_type": "code",
      "source": [
        "p4.__height"
      ],
      "execution_count": 46,
      "outputs": [
        {
          "output_type": "error",
          "ename": "AttributeError",
          "evalue": "ignored",
          "traceback": [
            "\u001b[0;31m---------------------------------------------------------------------------\u001b[0m",
            "\u001b[0;31mAttributeError\u001b[0m                            Traceback (most recent call last)",
            "\u001b[0;32m<ipython-input-46-da5e51a9dd6b>\u001b[0m in \u001b[0;36m<module>\u001b[0;34m()\u001b[0m\n\u001b[0;32m----> 1\u001b[0;31m \u001b[0mp4\u001b[0m\u001b[0;34m.\u001b[0m\u001b[0m__height\u001b[0m\u001b[0;34m\u001b[0m\u001b[0m\n\u001b[0m",
            "\u001b[0;31mAttributeError\u001b[0m: 'PrismC' object has no attribute '__height'"
          ]
        }
      ]
    },
    {
      "metadata": {
        "id": "yLBvZ_Yq8oj4",
        "colab_type": "code",
        "colab": {}
      },
      "cell_type": "code",
      "source": [
        "p4._height=1"
      ],
      "execution_count": 0,
      "outputs": []
    },
    {
      "metadata": {
        "id": "n3ZSuyEl8oj6",
        "colab_type": "code",
        "colab": {
          "base_uri": "https://localhost:8080/",
          "height": 35
        },
        "outputId": "da2685a3-fe81-4bc0-9990-4e88153a8299"
      },
      "cell_type": "code",
      "source": [
        "p4._height"
      ],
      "execution_count": 48,
      "outputs": [
        {
          "output_type": "execute_result",
          "data": {
            "text/plain": [
              "1"
            ]
          },
          "metadata": {
            "tags": []
          },
          "execution_count": 48
        }
      ]
    },
    {
      "metadata": {
        "id": "y0GI8NtKOhuL",
        "colab_type": "code",
        "colab": {
          "base_uri": "https://localhost:8080/",
          "height": 172
        },
        "outputId": "bd019db4-5c19-4c5b-9a27-9bbe4f1f9af0"
      },
      "cell_type": "code",
      "source": [
        "p4._depth"
      ],
      "execution_count": 55,
      "outputs": [
        {
          "output_type": "error",
          "ename": "AttributeError",
          "evalue": "ignored",
          "traceback": [
            "\u001b[0;31m---------------------------------------------------------------------------\u001b[0m",
            "\u001b[0;31mAttributeError\u001b[0m                            Traceback (most recent call last)",
            "\u001b[0;32m<ipython-input-55-264b31d83755>\u001b[0m in \u001b[0;36m<module>\u001b[0;34m()\u001b[0m\n\u001b[0;32m----> 1\u001b[0;31m \u001b[0mp4\u001b[0m\u001b[0;34m.\u001b[0m\u001b[0m_depth\u001b[0m\u001b[0;34m\u001b[0m\u001b[0m\n\u001b[0m",
            "\u001b[0;31mAttributeError\u001b[0m: 'PrismC' object has no attribute '_depth'"
          ]
        }
      ]
    },
    {
      "metadata": {
        "id": "a9WD9ILjOHny",
        "colab_type": "code",
        "colab": {
          "base_uri": "https://localhost:8080/",
          "height": 35
        },
        "outputId": "5417106b-c6a0-4bb3-a74d-516a0210146e"
      },
      "cell_type": "code",
      "source": [
        "p4._PrismC__depth"
      ],
      "execution_count": 56,
      "outputs": [
        {
          "output_type": "execute_result",
          "data": {
            "text/plain": [
              "30"
            ]
          },
          "metadata": {
            "tags": []
          },
          "execution_count": 56
        }
      ]
    },
    {
      "metadata": {
        "id": "Db0Pg9fu8oj7",
        "colab_type": "code",
        "colab": {
          "base_uri": "https://localhost:8080/",
          "height": 593
        },
        "outputId": "148e423c-079b-4292-ef5a-2abbe48230d6"
      },
      "cell_type": "code",
      "source": [
        "dir(p4)"
      ],
      "execution_count": 49,
      "outputs": [
        {
          "output_type": "execute_result",
          "data": {
            "text/plain": [
              "['_PrismC__depth',\n",
              " '_PrismC__height',\n",
              " '_PrismC__width',\n",
              " '__class__',\n",
              " '__delattr__',\n",
              " '__dict__',\n",
              " '__dir__',\n",
              " '__doc__',\n",
              " '__eq__',\n",
              " '__format__',\n",
              " '__ge__',\n",
              " '__getattribute__',\n",
              " '__gt__',\n",
              " '__hash__',\n",
              " '__init__',\n",
              " '__init_subclass__',\n",
              " '__le__',\n",
              " '__lt__',\n",
              " '__module__',\n",
              " '__ne__',\n",
              " '__new__',\n",
              " '__reduce__',\n",
              " '__reduce_ex__',\n",
              " '__repr__',\n",
              " '__setattr__',\n",
              " '__sizeof__',\n",
              " '__str__',\n",
              " '__subclasshook__',\n",
              " '__weakref__',\n",
              " '__width',\n",
              " '_height',\n",
              " 'content']"
            ]
          },
          "metadata": {
            "tags": []
          },
          "execution_count": 49
        }
      ]
    },
    {
      "metadata": {
        "id": "ltlYhA8h8oj8",
        "colab_type": "text"
      },
      "cell_type": "markdown",
      "source": [
        "### 다음 변수들의 차이점을 이해!\n",
        "\n",
        "<pre> _PrismC__depth,  _PrismC__height, _PrismC__width   vs.   __width, _height </pre>\n",
        "\n",
        "> <pre> _PrismC__depth,  _PrismC__height, _PrismC__width 는 class 에 은닉된 변수,\n",
        "         __width, _height 는 클래스의 인스턴스에 추가된 변수</pre>"
      ]
    },
    {
      "metadata": {
        "id": "-darshfk8oj9",
        "colab_type": "text"
      },
      "cell_type": "markdown",
      "source": [
        "***"
      ]
    },
    {
      "metadata": {
        "id": "QKQPTDXC8oj9",
        "colab_type": "text"
      },
      "cell_type": "markdown",
      "source": [
        "# Chapter07-01\n",
        "## 클래스 상속과 고급 객체 지향 기능"
      ]
    },
    {
      "metadata": {
        "id": "GJaRhtHM8oj_",
        "colab_type": "text"
      },
      "cell_type": "markdown",
      "source": [
        "## 클래스를 상속한다"
      ]
    },
    {
      "metadata": {
        "id": "10pOFb7o8oj_",
        "colab_type": "code",
        "colab": {}
      },
      "cell_type": "code",
      "source": [
        "# Prism 클래스를 다시 정의\n",
        "class Prism:\n",
        "    def __init__(self, width, height, depth):\n",
        "        # 초기화 메쏘드를 정의\n",
        "        self.width = width    # 인수를 속성에 할당\n",
        "        self.height = height\n",
        "        self.depth = depth\n",
        "\n",
        "    def content(self):\n",
        "        # 부피를 계산\n",
        "        return self.width*self.height*self.depth"
      ],
      "execution_count": 0,
      "outputs": []
    },
    {
      "metadata": {
        "id": "cfYWvttK8okB",
        "colab_type": "code",
        "colab": {}
      },
      "cell_type": "code",
      "source": [
        "# Cube 클래스의 정의\n",
        "# 슈퍼클래스 Prism을 상속한 Cube 클래스를 정의\n",
        "class Cube(Prism):    # Prism 클래스를 상속함\n",
        "    def __init__(self, length):    # __init__() 메쏘드를 오버라이드\n",
        "        # 초기화 메쏘드를 오버라이드(override)\n",
        "        self.width = self.height = self.depth = length    # 속성을 length로 초기화"
      ],
      "execution_count": 0,
      "outputs": []
    },
    {
      "metadata": {
        "id": "1-KICko88okD",
        "colab_type": "code",
        "colab": {
          "base_uri": "https://localhost:8080/",
          "height": 35
        },
        "outputId": "389e9a40-38a4-40e1-fa44-672e0322ae06"
      },
      "cell_type": "code",
      "source": [
        "# Cube 클래스를 사용한다\n",
        "c = Cube(20)     # length로 ‘20’을 넘김\n",
        "c.content()      # Prism 클래스의 메쏘드를 호출함"
      ],
      "execution_count": 59,
      "outputs": [
        {
          "output_type": "execute_result",
          "data": {
            "text/plain": [
              "8000"
            ]
          },
          "metadata": {
            "tags": []
          },
          "execution_count": 59
        }
      ]
    },
    {
      "metadata": {
        "id": "MBUtdxX-8okF",
        "colab_type": "text"
      },
      "cell_type": "markdown",
      "source": [
        "### 초기화 메쏘드의 오버라이드 (override,재정의)"
      ]
    },
    {
      "metadata": {
        "id": "5BiRwUpb8okF",
        "colab_type": "code",
        "colab": {}
      },
      "cell_type": "code",
      "source": [
        "# Prism 클래스의 새로운 정의\n",
        "# 초기화 메소드에 인수(단위)를 추가하여 Prism 클래스를 재정의\n",
        "class Prism:\n",
        "    def __init__(self, width, height, depth, unit=\"cm\"):    # 인수를 추가\n",
        "        self.width = width\n",
        "        self.height = height\n",
        "        self.depth = depth\n",
        "        self.unit = unit             # 속성을 추가\n",
        "        print(\"Unit: \", unit)\n",
        "\n",
        "    def content(self):\n",
        "        # 부피 계산\n",
        "        return self.width*self.height*self.depth        \n",
        "\n",
        "    def unit_content(self):         # 메쏘드를 추가\n",
        "        # 체적을 구하고, 단위를 연결하여 문자열을 반환\n",
        "        return str(self.content())+ \" \" +3*self.unit  # 계산 결과에 단위를 더함          "
      ],
      "execution_count": 0,
      "outputs": []
    },
    {
      "metadata": {
        "id": "IVp2Wb_J8okG",
        "colab_type": "code",
        "colab": {
          "base_uri": "https://localhost:8080/",
          "height": 53
        },
        "outputId": "cc6a1c64-c467-49f9-fcc5-c917afe77f06"
      },
      "cell_type": "code",
      "source": [
        "Prism(10,20,30)"
      ],
      "execution_count": 61,
      "outputs": [
        {
          "output_type": "stream",
          "text": [
            "Unit:  cm\n"
          ],
          "name": "stdout"
        },
        {
          "output_type": "execute_result",
          "data": {
            "text/plain": [
              "<__main__.Prism at 0x7f13ebd73128>"
            ]
          },
          "metadata": {
            "tags": []
          },
          "execution_count": 61
        }
      ]
    },
    {
      "metadata": {
        "id": "bzTgoA268okI",
        "colab_type": "code",
        "colab": {
          "base_uri": "https://localhost:8080/",
          "height": 53
        },
        "outputId": "995481b4-13d3-49a9-f65c-6b86aea10cf8"
      },
      "cell_type": "code",
      "source": [
        "Prism(10,20,30).content()"
      ],
      "execution_count": 62,
      "outputs": [
        {
          "output_type": "stream",
          "text": [
            "Unit:  cm\n"
          ],
          "name": "stdout"
        },
        {
          "output_type": "execute_result",
          "data": {
            "text/plain": [
              "6000"
            ]
          },
          "metadata": {
            "tags": []
          },
          "execution_count": 62
        }
      ]
    },
    {
      "metadata": {
        "id": "2o7D0KnE8okK",
        "colab_type": "code",
        "colab": {
          "base_uri": "https://localhost:8080/",
          "height": 53
        },
        "outputId": "b177b1c6-fd9d-46fb-f676-23a10c3e8b03"
      },
      "cell_type": "code",
      "source": [
        "Prism(10,20,30).unit_content()"
      ],
      "execution_count": 63,
      "outputs": [
        {
          "output_type": "stream",
          "text": [
            "Unit:  cm\n"
          ],
          "name": "stdout"
        },
        {
          "output_type": "execute_result",
          "data": {
            "text/plain": [
              "'6000 cmcmcm'"
            ]
          },
          "metadata": {
            "tags": []
          },
          "execution_count": 63
        }
      ]
    },
    {
      "metadata": {
        "id": "Zk021YW08okL",
        "colab_type": "code",
        "colab": {}
      },
      "cell_type": "code",
      "source": [
        "# Prism을 상속한 Cube 클래스를 정의하고 초기화 메소드 __init__() 를 재정의\n",
        "class Cube(Prism):\n",
        "    def __init__(self, length):\n",
        "        # 초기화 메쏘드를 오버라이드(override)\n",
        "        self.width = self.height = self.depth = length"
      ],
      "execution_count": 0,
      "outputs": []
    },
    {
      "metadata": {
        "id": "EWv0-z138okN",
        "colab_type": "code",
        "colab": {
          "base_uri": "https://localhost:8080/",
          "height": 35
        },
        "outputId": "bf55b574-f4d8-4d11-90d8-73031b696740"
      },
      "cell_type": "code",
      "source": [
        "Cube(10)"
      ],
      "execution_count": 65,
      "outputs": [
        {
          "output_type": "execute_result",
          "data": {
            "text/plain": [
              "<__main__.Cube at 0x7f13ebd73940>"
            ]
          },
          "metadata": {
            "tags": []
          },
          "execution_count": 65
        }
      ]
    },
    {
      "metadata": {
        "scrolled": true,
        "id": "o_u2_7nq8okP",
        "colab_type": "code",
        "colab": {
          "base_uri": "https://localhost:8080/",
          "height": 35
        },
        "outputId": "a3f4fe0f-3be6-420d-fec6-b746f3495293"
      },
      "cell_type": "code",
      "source": [
        "# 추가한 속성을 호출한다\n",
        "# Prism 클래스를 상속한 Cube 클래스에 추가한 메쏘드를 호출\n",
        "c = Cube(10)\n",
        "c"
      ],
      "execution_count": 66,
      "outputs": [
        {
          "output_type": "execute_result",
          "data": {
            "text/plain": [
              "<__main__.Cube at 0x7f13ebd734a8>"
            ]
          },
          "metadata": {
            "tags": []
          },
          "execution_count": 66
        }
      ]
    },
    {
      "metadata": {
        "id": "dE_GiLV88okQ",
        "colab_type": "code",
        "colab": {
          "base_uri": "https://localhost:8080/",
          "height": 35
        },
        "outputId": "98b9a510-512a-424e-9fb3-a1e1cce82090"
      },
      "cell_type": "code",
      "source": [
        "c.content()"
      ],
      "execution_count": 67,
      "outputs": [
        {
          "output_type": "execute_result",
          "data": {
            "text/plain": [
              "1000"
            ]
          },
          "metadata": {
            "tags": []
          },
          "execution_count": 67
        }
      ]
    },
    {
      "metadata": {
        "scrolled": true,
        "id": "pIqs-wE88okR",
        "colab_type": "code",
        "colab": {
          "base_uri": "https://localhost:8080/",
          "height": 262
        },
        "outputId": "7b07656c-2427-4673-d855-7fc2eb2742ea"
      },
      "cell_type": "code",
      "source": [
        "c.unit_content()"
      ],
      "execution_count": 68,
      "outputs": [
        {
          "output_type": "error",
          "ename": "AttributeError",
          "evalue": "ignored",
          "traceback": [
            "\u001b[0;31m---------------------------------------------------------------------------\u001b[0m",
            "\u001b[0;31mAttributeError\u001b[0m                            Traceback (most recent call last)",
            "\u001b[0;32m<ipython-input-68-d476ca5a2737>\u001b[0m in \u001b[0;36m<module>\u001b[0;34m()\u001b[0m\n\u001b[0;32m----> 1\u001b[0;31m \u001b[0mc\u001b[0m\u001b[0;34m.\u001b[0m\u001b[0munit_content\u001b[0m\u001b[0;34m(\u001b[0m\u001b[0;34m)\u001b[0m\u001b[0;34m\u001b[0m\u001b[0m\n\u001b[0m",
            "\u001b[0;32m<ipython-input-60-0cd9fb9f630b>\u001b[0m in \u001b[0;36munit_content\u001b[0;34m(self)\u001b[0m\n\u001b[1;32m     13\u001b[0m     \u001b[0;32mdef\u001b[0m \u001b[0munit_content\u001b[0m\u001b[0;34m(\u001b[0m\u001b[0mself\u001b[0m\u001b[0;34m)\u001b[0m\u001b[0;34m:\u001b[0m         \u001b[0;31m# 메쏘드를 추가\u001b[0m\u001b[0;34m\u001b[0m\u001b[0m\n\u001b[1;32m     14\u001b[0m         \u001b[0;31m# 체적을 구하고, 단위를 연결하여 문자열을 반환\u001b[0m\u001b[0;34m\u001b[0m\u001b[0;34m\u001b[0m\u001b[0m\n\u001b[0;32m---> 15\u001b[0;31m         \u001b[0;32mreturn\u001b[0m \u001b[0mstr\u001b[0m\u001b[0;34m(\u001b[0m\u001b[0mself\u001b[0m\u001b[0;34m.\u001b[0m\u001b[0mcontent\u001b[0m\u001b[0;34m(\u001b[0m\u001b[0;34m)\u001b[0m\u001b[0;34m)\u001b[0m\u001b[0;34m+\u001b[0m \u001b[0;34m\" \"\u001b[0m \u001b[0;34m+\u001b[0m\u001b[0;36m3\u001b[0m\u001b[0;34m*\u001b[0m\u001b[0mself\u001b[0m\u001b[0;34m.\u001b[0m\u001b[0munit\u001b[0m  \u001b[0;31m# 계산 결과에 단위를 더함\u001b[0m\u001b[0;34m\u001b[0m\u001b[0m\n\u001b[0m",
            "\u001b[0;31mAttributeError\u001b[0m: 'Cube' object has no attribute 'unit'"
          ]
        }
      ]
    },
    {
      "metadata": {
        "id": "UdUbmGQF8okT",
        "colab_type": "text"
      },
      "cell_type": "markdown",
      "source": [
        "### Solution to the above error"
      ]
    },
    {
      "metadata": {
        "id": "G8fGxiSj8okT",
        "colab_type": "text"
      },
      "cell_type": "markdown",
      "source": [
        "### super( )를 사용한 슈퍼클래스의 취득"
      ]
    },
    {
      "metadata": {
        "id": "x1O-qChs8okT",
        "colab_type": "code",
        "colab": {}
      },
      "cell_type": "code",
      "source": [
        "# Cube 클래스에서 super()함수를 사용한다.\n",
        "# super()를 사용하여 Cube 클래스를 재정의\n",
        "class Cube(Prism):\n",
        "    def __init__(self, length):\n",
        "        super().__init__(length, length, length) # Cube는 세 모서리 길이가 동일. unit는 default로 지정됨.\n"
      ],
      "execution_count": 0,
      "outputs": []
    },
    {
      "metadata": {
        "id": "Lmq2oHHJ8okV",
        "colab_type": "code",
        "colab": {
          "base_uri": "https://localhost:8080/",
          "height": 53
        },
        "outputId": "a5b83525-fd8d-4361-f2a9-87f6cbf71707"
      },
      "cell_type": "code",
      "source": [
        "# 추가한 속성을 호출한다\n",
        "c2 = Cube(20)\n",
        "c2.unit_content()"
      ],
      "execution_count": 70,
      "outputs": [
        {
          "output_type": "stream",
          "text": [
            "Unit:  cm\n"
          ],
          "name": "stdout"
        },
        {
          "output_type": "execute_result",
          "data": {
            "text/plain": [
              "'8000 cmcmcm'"
            ]
          },
          "metadata": {
            "tags": []
          },
          "execution_count": 70
        }
      ]
    },
    {
      "metadata": {
        "id": "IGUGcoXV8okW",
        "colab_type": "text"
      },
      "cell_type": "markdown",
      "source": [
        "***"
      ]
    },
    {
      "metadata": {
        "id": "AEsuWMbt8okW",
        "colab_type": "text"
      },
      "cell_type": "markdown",
      "source": [
        "### 슬롯(Slot)"
      ]
    },
    {
      "metadata": {
        "id": "oVK4AvBo8okX",
        "colab_type": "code",
        "colab": {
          "base_uri": "https://localhost:8080/",
          "height": 35
        },
        "outputId": "6d4fc83e-b6f9-4cf7-c7e0-1c70de55137d"
      },
      "cell_type": "code",
      "source": [
        "# 슬롯에 의한 속성 제한\n",
        "# 슬롯을 가지는 클래스를 정의한다\n",
        "class Klass:                # 클래스를 정의\n",
        "    __slots__ = ['a', 'b']  # 속성을 제한\n",
        "    def __init__(self):\n",
        "        self.a = 1          # a라는 속성을 작성\n",
        "\n",
        "i = Klass()      # 인스턴스를 만듦\n",
        "i.a              # a라는 속성을 확인"
      ],
      "execution_count": 71,
      "outputs": [
        {
          "output_type": "execute_result",
          "data": {
            "text/plain": [
              "1"
            ]
          },
          "metadata": {
            "tags": []
          },
          "execution_count": 71
        }
      ]
    },
    {
      "metadata": {
        "id": "KquDXPLtR9uJ",
        "colab_type": "code",
        "colab": {
          "base_uri": "https://localhost:8080/",
          "height": 172
        },
        "outputId": "37980e03-b175-42f8-b743-4edf299505dc"
      },
      "cell_type": "code",
      "source": [
        "i.b"
      ],
      "execution_count": 72,
      "outputs": [
        {
          "output_type": "error",
          "ename": "AttributeError",
          "evalue": "ignored",
          "traceback": [
            "\u001b[0;31m---------------------------------------------------------------------------\u001b[0m",
            "\u001b[0;31mAttributeError\u001b[0m                            Traceback (most recent call last)",
            "\u001b[0;32m<ipython-input-72-1fbc99b3f1c8>\u001b[0m in \u001b[0;36m<module>\u001b[0;34m()\u001b[0m\n\u001b[0;32m----> 1\u001b[0;31m \u001b[0mi\u001b[0m\u001b[0;34m.\u001b[0m\u001b[0mb\u001b[0m\u001b[0;34m\u001b[0m\u001b[0m\n\u001b[0m",
            "\u001b[0;31mAttributeError\u001b[0m: b"
          ]
        }
      ]
    },
    {
      "metadata": {
        "id": "hIFCXrna8okZ",
        "colab_type": "code",
        "colab": {
          "base_uri": "https://localhost:8080/",
          "height": 35
        },
        "outputId": "a061e9c7-864d-4f8e-8284-add939474d5a"
      },
      "cell_type": "code",
      "source": [
        "i.b = 2          # b라는 속성을 추가\n",
        "i.b              # b라는 속성을 확인"
      ],
      "execution_count": 73,
      "outputs": [
        {
          "output_type": "execute_result",
          "data": {
            "text/plain": [
              "2"
            ]
          },
          "metadata": {
            "tags": []
          },
          "execution_count": 73
        }
      ]
    },
    {
      "metadata": {
        "id": "nHla6hnm8okZ",
        "colab_type": "code",
        "colab": {
          "base_uri": "https://localhost:8080/",
          "height": 172
        },
        "outputId": "8cf7a056-9b15-4ce2-e238-70bdc9b2fd3c"
      },
      "cell_type": "code",
      "source": [
        "i.c = 3          # c라는 속성은 추가할 수 없음"
      ],
      "execution_count": 74,
      "outputs": [
        {
          "output_type": "error",
          "ename": "AttributeError",
          "evalue": "ignored",
          "traceback": [
            "\u001b[0;31m---------------------------------------------------------------------------\u001b[0m",
            "\u001b[0;31mAttributeError\u001b[0m                            Traceback (most recent call last)",
            "\u001b[0;32m<ipython-input-74-c11014e15c8d>\u001b[0m in \u001b[0;36m<module>\u001b[0;34m()\u001b[0m\n\u001b[0;32m----> 1\u001b[0;31m \u001b[0mi\u001b[0m\u001b[0;34m.\u001b[0m\u001b[0mc\u001b[0m \u001b[0;34m=\u001b[0m \u001b[0;36m3\u001b[0m          \u001b[0;31m# c라는 속성은 추가할 수 없음\u001b[0m\u001b[0;34m\u001b[0m\u001b[0m\n\u001b[0m",
            "\u001b[0;31mAttributeError\u001b[0m: 'Klass' object has no attribute 'c'"
          ]
        }
      ]
    },
    {
      "metadata": {
        "id": "qHUp5rDs8oka",
        "colab_type": "code",
        "colab": {
          "base_uri": "https://localhost:8080/",
          "height": 503
        },
        "outputId": "6fe529d6-755e-43be-cf86-51638d84ae4f"
      },
      "cell_type": "code",
      "source": [
        "dir(i)"
      ],
      "execution_count": 75,
      "outputs": [
        {
          "output_type": "execute_result",
          "data": {
            "text/plain": [
              "['__class__',\n",
              " '__delattr__',\n",
              " '__dir__',\n",
              " '__doc__',\n",
              " '__eq__',\n",
              " '__format__',\n",
              " '__ge__',\n",
              " '__getattribute__',\n",
              " '__gt__',\n",
              " '__hash__',\n",
              " '__init__',\n",
              " '__init_subclass__',\n",
              " '__le__',\n",
              " '__lt__',\n",
              " '__module__',\n",
              " '__ne__',\n",
              " '__new__',\n",
              " '__reduce__',\n",
              " '__reduce_ex__',\n",
              " '__repr__',\n",
              " '__setattr__',\n",
              " '__sizeof__',\n",
              " '__slots__',\n",
              " '__str__',\n",
              " '__subclasshook__',\n",
              " 'a',\n",
              " 'b']"
            ]
          },
          "metadata": {
            "tags": []
          },
          "execution_count": 75
        }
      ]
    },
    {
      "metadata": {
        "id": "KtHHVe658okb",
        "colab_type": "text"
      },
      "cell_type": "markdown",
      "source": [
        "### 프로퍼티(property)"
      ]
    },
    {
      "metadata": {
        "id": "CG9UqCks8okc",
        "colab_type": "code",
        "colab": {}
      },
      "cell_type": "code",
      "source": [
        "# 프로퍼티의 정의\n",
        "# 프로퍼티를 정의하는 클래스를 정의한다\n",
        "class Prop:\n",
        "    def __init__(self):\n",
        "        self.__x = 0    # 속성을 만듦\n",
        "\n",
        "    def getx(self):     # 게터\n",
        "        return self.__x # 속성을 돌려줌\n",
        "\n",
        "    def setx(self, x):  # 세터\n",
        "        self.__x = x    # 속성으로 값을 넣음\n",
        "    \n",
        "    x = property(getx, setx) # 프로퍼티를 설정함\n",
        "    "
      ],
      "execution_count": 0,
      "outputs": []
    },
    {
      "metadata": {
        "id": "Yv4m7Ro88okh",
        "colab_type": "code",
        "colab": {
          "base_uri": "https://localhost:8080/",
          "height": 35
        },
        "outputId": "9bee325f-2bb1-4a24-aa92-5b9b032fcd57"
      },
      "cell_type": "code",
      "source": [
        "# 프로퍼티를 사용한다\n",
        "i = Prop()     # 인스턴스를 만듦\n",
        "i.x            # 속성을 참조"
      ],
      "execution_count": 77,
      "outputs": [
        {
          "output_type": "execute_result",
          "data": {
            "text/plain": [
              "0"
            ]
          },
          "metadata": {
            "tags": []
          },
          "execution_count": 77
        }
      ]
    },
    {
      "metadata": {
        "id": "NXFwUZ7X8oki",
        "colab_type": "code",
        "colab": {
          "base_uri": "https://localhost:8080/",
          "height": 35
        },
        "outputId": "120daa61-27af-4fde-9a40-96fe7cb7316b"
      },
      "cell_type": "code",
      "source": [
        "i.x = 10       # x에 대입\n",
        "i.x            # 속성 x를 참조"
      ],
      "execution_count": 78,
      "outputs": [
        {
          "output_type": "execute_result",
          "data": {
            "text/plain": [
              "10"
            ]
          },
          "metadata": {
            "tags": []
          },
          "execution_count": 78
        }
      ]
    },
    {
      "metadata": {
        "id": "rhHzT1Mu8okk",
        "colab_type": "code",
        "colab": {
          "base_uri": "https://localhost:8080/",
          "height": 35
        },
        "outputId": "442be0d2-697c-48e8-9a2c-2a0117eda19b"
      },
      "cell_type": "code",
      "source": [
        "i._Prop__x     # __x에 억지로 접근"
      ],
      "execution_count": 79,
      "outputs": [
        {
          "output_type": "execute_result",
          "data": {
            "text/plain": [
              "10"
            ]
          },
          "metadata": {
            "tags": []
          },
          "execution_count": 79
        }
      ]
    },
    {
      "metadata": {
        "id": "L8jEXqfg8okn",
        "colab_type": "code",
        "colab": {
          "base_uri": "https://localhost:8080/",
          "height": 557
        },
        "outputId": "67713ec0-51a6-40b5-df8e-7557ca0231ba"
      },
      "cell_type": "code",
      "source": [
        "dir(i)"
      ],
      "execution_count": 80,
      "outputs": [
        {
          "output_type": "execute_result",
          "data": {
            "text/plain": [
              "['_Prop__x',\n",
              " '__class__',\n",
              " '__delattr__',\n",
              " '__dict__',\n",
              " '__dir__',\n",
              " '__doc__',\n",
              " '__eq__',\n",
              " '__format__',\n",
              " '__ge__',\n",
              " '__getattribute__',\n",
              " '__gt__',\n",
              " '__hash__',\n",
              " '__init__',\n",
              " '__init_subclass__',\n",
              " '__le__',\n",
              " '__lt__',\n",
              " '__module__',\n",
              " '__ne__',\n",
              " '__new__',\n",
              " '__reduce__',\n",
              " '__reduce_ex__',\n",
              " '__repr__',\n",
              " '__setattr__',\n",
              " '__sizeof__',\n",
              " '__str__',\n",
              " '__subclasshook__',\n",
              " '__weakref__',\n",
              " 'getx',\n",
              " 'setx',\n",
              " 'x']"
            ]
          },
          "metadata": {
            "tags": []
          },
          "execution_count": 80
        }
      ]
    },
    {
      "metadata": {
        "id": "gXk21ZF28oko",
        "colab_type": "code",
        "colab": {
          "base_uri": "https://localhost:8080/",
          "height": 35
        },
        "outputId": "47563bac-068c-4b7c-f5b0-a526581025f6"
      },
      "cell_type": "code",
      "source": [
        "i.getx()"
      ],
      "execution_count": 81,
      "outputs": [
        {
          "output_type": "execute_result",
          "data": {
            "text/plain": [
              "10"
            ]
          },
          "metadata": {
            "tags": []
          },
          "execution_count": 81
        }
      ]
    },
    {
      "metadata": {
        "id": "9LdoXAi78okp",
        "colab_type": "code",
        "colab": {
          "base_uri": "https://localhost:8080/",
          "height": 35
        },
        "outputId": "82e8847a-1b26-4a5e-dbf3-f25bca822679"
      },
      "cell_type": "code",
      "source": [
        "i.setx(100)\n",
        "i.x"
      ],
      "execution_count": 82,
      "outputs": [
        {
          "output_type": "execute_result",
          "data": {
            "text/plain": [
              "100"
            ]
          },
          "metadata": {
            "tags": []
          },
          "execution_count": 82
        }
      ]
    },
    {
      "metadata": {
        "id": "donMd8v18okq",
        "colab_type": "text"
      },
      "cell_type": "markdown",
      "source": [
        "### 더미 데코레이터를 사용하면 보다 간편하게 속성을 정의 할 수 있다"
      ]
    },
    {
      "metadata": {
        "id": "gmmFW4rQ8okq",
        "colab_type": "code",
        "colab": {}
      },
      "cell_type": "code",
      "source": [
        "# 데코레이터를 사용하여 프로퍼티를 정의하는 클래스를 정의\n",
        "\n",
        "class DecoProp:\n",
        "    def __init__(self):\n",
        "        self.__x = 0\n",
        "\n",
        "    @property\n",
        "    def x(self):\n",
        "        # x = property(x.getter(x), x.setter(x)) \n",
        "        return None\n",
        "    \n",
        "    # getter 정의\n",
        "    @x.getter\n",
        "    def x(self):\n",
        "        print('this is getter, value is', self.__x)\n",
        "        return(self.__x)\n",
        "\n",
        "    # setter 정의\n",
        "    @x.setter\n",
        "    def x(self, value):\n",
        "        print('this is setter, value is', value)\n",
        "        self.__x = value\n"
      ],
      "execution_count": 0,
      "outputs": []
    },
    {
      "metadata": {
        "id": "qyPaxCGg8okt",
        "colab_type": "code",
        "colab": {
          "base_uri": "https://localhost:8080/",
          "height": 53
        },
        "outputId": "03eeedbd-495b-4f20-daa2-0ff7497aec8d"
      },
      "cell_type": "code",
      "source": [
        "dp = DecoProp()   # 데코레이터를 사용한 속성을 가진 인스턴스를 생성\n",
        "dp.x             # __init __ ()에 정의된 초기값을 표시, getter가 호출됨"
      ],
      "execution_count": 84,
      "outputs": [
        {
          "output_type": "stream",
          "text": [
            "this is getter, value is 0\n"
          ],
          "name": "stdout"
        },
        {
          "output_type": "execute_result",
          "data": {
            "text/plain": [
              "0"
            ]
          },
          "metadata": {
            "tags": []
          },
          "execution_count": 84
        }
      ]
    },
    {
      "metadata": {
        "id": "VqJfGJtb8okt",
        "colab_type": "code",
        "colab": {
          "base_uri": "https://localhost:8080/",
          "height": 35
        },
        "outputId": "17690db4-475a-4a1f-e0ae-ae2f5c57f9d7"
      },
      "cell_type": "code",
      "source": [
        "dp.x = 1          # setter를 호출하여 값을 변경"
      ],
      "execution_count": 85,
      "outputs": [
        {
          "output_type": "stream",
          "text": [
            "this is setter, value is 1\n"
          ],
          "name": "stdout"
        }
      ]
    },
    {
      "metadata": {
        "id": "JrUt3aGq8oku",
        "colab_type": "code",
        "colab": {
          "base_uri": "https://localhost:8080/",
          "height": 53
        },
        "outputId": "cf284e33-c602-46d3-f9db-f7bdc421a094"
      },
      "cell_type": "code",
      "source": [
        "dp.x              # 값이 변경되어 있는지 확인"
      ],
      "execution_count": 86,
      "outputs": [
        {
          "output_type": "stream",
          "text": [
            "this is getter, value is 1\n"
          ],
          "name": "stdout"
        },
        {
          "output_type": "execute_result",
          "data": {
            "text/plain": [
              "1"
            ]
          },
          "metadata": {
            "tags": []
          },
          "execution_count": 86
        }
      ]
    },
    {
      "metadata": {
        "id": "7ASAuAKJ8okw",
        "colab_type": "text"
      },
      "cell_type": "markdown",
      "source": [
        "# Chapter 07-03\n",
        "## 내장형을 상속하다"
      ]
    },
    {
      "metadata": {
        "id": "DsvdOd2q8okw",
        "colab_type": "text"
      },
      "cell_type": "markdown",
      "source": [
        "## 딕셔너리형을 상속한다"
      ]
    },
    {
      "metadata": {
        "id": "oVj3JXLU8okw",
        "colab_type": "code",
        "colab": {}
      },
      "cell_type": "code",
      "source": [
        "class StrDict(dict):\n",
        "    \"\"\" 딕셔너리형을 상속해서 클래스를 만든다\n",
        "    \"\"\"\n",
        "    def __init__(self):\n",
        "        pass\n",
        "\n",
        "    def __setitem__(self, key, value):\n",
        "        \"\"\" 특수 메쏘드를 재정의(오버라이드)\n",
        "            key가 문자열이 아니면 예외를 발생\n",
        "        \"\"\"\n",
        "        if not isinstance(key, str):\n",
        "            # 키가 문자열이 아닌 경우에는 예외를 발생\n",
        "            raise ValueError(\"Key must be string.\")\n",
        "            # 슈퍼클래스의 특수 메쏘드를 호출해서 키와 값을 설정\n",
        "        dict.__setitem__(self, key, value)"
      ],
      "execution_count": 0,
      "outputs": []
    },
    {
      "metadata": {
        "id": "tkVsUEPe8okx",
        "colab_type": "text"
      },
      "cell_type": "markdown",
      "source": [
        "> 딕셔너리형(dict)을 상속했으므로 딕셔너리의 모든 속성과 메소드가 사용 가능하다."
      ]
    },
    {
      "metadata": {
        "id": "Nh89fbRO8okz",
        "colab_type": "code",
        "colab": {
          "base_uri": "https://localhost:8080/",
          "height": 35
        },
        "outputId": "a8c0e01e-c3c1-412e-f506-a8c1f90c8029"
      },
      "cell_type": "code",
      "source": [
        "# 딕셔너리형을 상속한 클래스를 사용한다\n",
        "d = StrDict()   # 인스턴스를 작성\n",
        "d[\"spam\"] = 1   # 딕셔너리와 같이 키를 사용해서 요소를 추가\n",
        "d[\"spam\"]       # 추가된 요소 확인"
      ],
      "execution_count": 88,
      "outputs": [
        {
          "output_type": "execute_result",
          "data": {
            "text/plain": [
              "1"
            ]
          },
          "metadata": {
            "tags": []
          },
          "execution_count": 88
        }
      ]
    },
    {
      "metadata": {
        "id": "RFiOr0lG8ok0",
        "colab_type": "code",
        "colab": {
          "base_uri": "https://localhost:8080/",
          "height": 298
        },
        "outputId": "f3fbf303-8e56-42ee-cb72-d30a8dd4b79e"
      },
      "cell_type": "code",
      "source": [
        "d[1] = 1        # 수치 키로 요소를 추가하면 오류"
      ],
      "execution_count": 89,
      "outputs": [
        {
          "output_type": "error",
          "ename": "ValueError",
          "evalue": "ignored",
          "traceback": [
            "\u001b[0;31m---------------------------------------------------------------------------\u001b[0m",
            "\u001b[0;31mValueError\u001b[0m                                Traceback (most recent call last)",
            "\u001b[0;32m<ipython-input-89-19602c131551>\u001b[0m in \u001b[0;36m<module>\u001b[0;34m()\u001b[0m\n\u001b[0;32m----> 1\u001b[0;31m \u001b[0md\u001b[0m\u001b[0;34m[\u001b[0m\u001b[0;36m1\u001b[0m\u001b[0;34m]\u001b[0m \u001b[0;34m=\u001b[0m \u001b[0;36m1\u001b[0m        \u001b[0;31m# 수치 키로 요소를 추가하면 오류\u001b[0m\u001b[0;34m\u001b[0m\u001b[0m\n\u001b[0m",
            "\u001b[0;32m<ipython-input-87-bec9e89ba762>\u001b[0m in \u001b[0;36m__setitem__\u001b[0;34m(self, key, value)\u001b[0m\n\u001b[1;32m     11\u001b[0m         \u001b[0;32mif\u001b[0m \u001b[0;32mnot\u001b[0m \u001b[0misinstance\u001b[0m\u001b[0;34m(\u001b[0m\u001b[0mkey\u001b[0m\u001b[0;34m,\u001b[0m \u001b[0mstr\u001b[0m\u001b[0;34m)\u001b[0m\u001b[0;34m:\u001b[0m\u001b[0;34m\u001b[0m\u001b[0m\n\u001b[1;32m     12\u001b[0m             \u001b[0;31m# 키가 문자열이 아닌 경우에는 예외를 발생\u001b[0m\u001b[0;34m\u001b[0m\u001b[0;34m\u001b[0m\u001b[0m\n\u001b[0;32m---> 13\u001b[0;31m             \u001b[0;32mraise\u001b[0m \u001b[0mValueError\u001b[0m\u001b[0;34m(\u001b[0m\u001b[0;34m\"Key must be string.\"\u001b[0m\u001b[0;34m)\u001b[0m\u001b[0;34m\u001b[0m\u001b[0m\n\u001b[0m\u001b[1;32m     14\u001b[0m             \u001b[0;31m# 슈퍼클래스의 특수 메쏘드를 호출해서 키와 값을 설정\u001b[0m\u001b[0;34m\u001b[0m\u001b[0;34m\u001b[0m\u001b[0m\n\u001b[1;32m     15\u001b[0m         \u001b[0mdict\u001b[0m\u001b[0;34m.\u001b[0m\u001b[0m__setitem__\u001b[0m\u001b[0;34m(\u001b[0m\u001b[0mself\u001b[0m\u001b[0;34m,\u001b[0m \u001b[0mkey\u001b[0m\u001b[0;34m,\u001b[0m \u001b[0mvalue\u001b[0m\u001b[0;34m)\u001b[0m\u001b[0;34m\u001b[0m\u001b[0m\n",
            "\u001b[0;31mValueError\u001b[0m: Key must be string."
          ]
        }
      ]
    },
    {
      "metadata": {
        "id": "aKkIkz2u8ok3",
        "colab_type": "code",
        "colab": {
          "base_uri": "https://localhost:8080/",
          "height": 35
        },
        "outputId": "65f49441-f6d0-4b78-c2c5-31ec3b93034c"
      },
      "cell_type": "code",
      "source": [
        "d.keys()       # 딕셔너리 메쏘드도 이용할 수 있음"
      ],
      "execution_count": 90,
      "outputs": [
        {
          "output_type": "execute_result",
          "data": {
            "text/plain": [
              "dict_keys(['spam'])"
            ]
          },
          "metadata": {
            "tags": []
          },
          "execution_count": 90
        }
      ]
    },
    {
      "metadata": {
        "id": "ZxPqr0h78ok4",
        "colab_type": "code",
        "colab": {
          "base_uri": "https://localhost:8080/",
          "height": 35
        },
        "outputId": "50fb0c59-7308-4d9c-adea-f8793fb020ac"
      },
      "cell_type": "code",
      "source": [
        "d[\"normal\"]=30\n",
        "d[\"normal\"]"
      ],
      "execution_count": 92,
      "outputs": [
        {
          "output_type": "execute_result",
          "data": {
            "text/plain": [
              "30"
            ]
          },
          "metadata": {
            "tags": []
          },
          "execution_count": 92
        }
      ]
    },
    {
      "metadata": {
        "id": "omUYcPgF8ok4",
        "colab_type": "code",
        "colab": {
          "base_uri": "https://localhost:8080/",
          "height": 35
        },
        "outputId": "6e7fc45c-b83a-44ea-da1e-9ba1c6c67ac9"
      },
      "cell_type": "code",
      "source": [
        "d.keys()"
      ],
      "execution_count": 93,
      "outputs": [
        {
          "output_type": "execute_result",
          "data": {
            "text/plain": [
              "dict_keys(['spam', 'normal'])"
            ]
          },
          "metadata": {
            "tags": []
          },
          "execution_count": 93
        }
      ]
    },
    {
      "metadata": {
        "id": "EXTDUsGt8ok5",
        "colab_type": "code",
        "colab": {
          "base_uri": "https://localhost:8080/",
          "height": 35
        },
        "outputId": "891b8728-5f02-414d-bbb7-7e1723ea0653"
      },
      "cell_type": "code",
      "source": [
        "d.items()"
      ],
      "execution_count": 94,
      "outputs": [
        {
          "output_type": "execute_result",
          "data": {
            "text/plain": [
              "dict_items([('spam', 1), ('normal', 30)])"
            ]
          },
          "metadata": {
            "tags": []
          },
          "execution_count": 94
        }
      ]
    },
    {
      "metadata": {
        "id": "3bTaGoak8ok6",
        "colab_type": "text"
      },
      "cell_type": "markdown",
      "source": [
        "# Chapter08-01\n",
        "## 모듈 파일 만들기"
      ]
    },
    {
      "metadata": {
        "id": "O21kn79b8ok6",
        "colab_type": "text"
      },
      "cell_type": "markdown",
      "source": [
        "### 모듈을 import하는 과정"
      ]
    },
    {
      "metadata": {
        "id": "y9dm6Eao8ok6",
        "colab_type": "code",
        "colab": {
          "base_uri": "https://localhost:8080/",
          "height": 316
        },
        "outputId": "2d48e16c-9991-459a-9e97-ec45f8e4c0a5"
      },
      "cell_type": "code",
      "source": [
        "# 모듈을 import해서 사용한다\n",
        "import testmodule    # testmodule 모듈을 임포트"
      ],
      "execution_count": 95,
      "outputs": [
        {
          "output_type": "error",
          "ename": "ModuleNotFoundError",
          "evalue": "ignored",
          "traceback": [
            "\u001b[0;31m---------------------------------------------------------------------------\u001b[0m",
            "\u001b[0;31mModuleNotFoundError\u001b[0m                       Traceback (most recent call last)",
            "\u001b[0;32m<ipython-input-95-fc8524658622>\u001b[0m in \u001b[0;36m<module>\u001b[0;34m()\u001b[0m\n\u001b[0;32m----> 1\u001b[0;31m \u001b[0;32mimport\u001b[0m \u001b[0mtestmodule\u001b[0m    \u001b[0;31m# testmodule 모듈을 임포트\u001b[0m\u001b[0;34m\u001b[0m\u001b[0m\n\u001b[0m",
            "\u001b[0;31mModuleNotFoundError\u001b[0m: No module named 'testmodule'",
            "",
            "\u001b[0;31m---------------------------------------------------------------------------\u001b[0;32m\nNOTE: If your import is failing due to a missing package, you can\nmanually install dependencies using either !pip or !apt.\n\nTo view examples of installing some common dependencies, click the\n\"Open Examples\" button below.\n\u001b[0;31m---------------------------------------------------------------------------\u001b[0m\n"
          ]
        }
      ]
    },
    {
      "metadata": {
        "id": "SyecX7VQ8ok8",
        "colab_type": "text"
      },
      "cell_type": "markdown",
      "source": [
        "<pre>\n",
        "# testmodule.py\n",
        "    \n",
        "import sys                # 표준 라이브러리를 임포트\n",
        "\n",
        "a = 1                     # 변수를 정의함\n",
        "b = \"some string\"\n",
        "\n",
        "def foo():                # 함수를 정의함\n",
        "    print(\"This is the function 'foo'\")\n",
        "\n",
        "print(\"this is the top level\") # 문자열을 표시함\n",
        "\n",
        "if __name__ == '__main__':\n",
        "    print(\"this is the code block\")\n",
        "\n",
        "</pre>"
      ]
    },
    {
      "metadata": {
        "id": "Z69gOkU78ok8",
        "colab_type": "code",
        "colab": {}
      },
      "cell_type": "code",
      "source": [
        "testmodule.a         # 변수를 표시함"
      ],
      "execution_count": 0,
      "outputs": []
    },
    {
      "metadata": {
        "id": "eON-nCn98ok9",
        "colab_type": "code",
        "colab": {}
      },
      "cell_type": "code",
      "source": [
        "testmodule.b"
      ],
      "execution_count": 0,
      "outputs": []
    },
    {
      "metadata": {
        "id": "I5iW-Mo58ok-",
        "colab_type": "code",
        "colab": {}
      },
      "cell_type": "code",
      "source": [
        "testmodule.foo()     # 함수를 호출함"
      ],
      "execution_count": 0,
      "outputs": []
    },
    {
      "metadata": {
        "id": "-jgQDTQM8ok-",
        "colab_type": "code",
        "colab": {}
      },
      "cell_type": "code",
      "source": [
        "testmodule.sys.argv  # 모듈 속에서 import한 모듈을 사용함"
      ],
      "execution_count": 0,
      "outputs": []
    },
    {
      "metadata": {
        "id": "aycLhQ4l8ok_",
        "colab_type": "text"
      },
      "cell_type": "markdown",
      "source": [
        "### 파일을 실행할 때만 실행하는 블록"
      ]
    },
    {
      "metadata": {
        "id": "FKmEPd4i8ok_",
        "colab_type": "code",
        "colab": {}
      },
      "cell_type": "code",
      "source": [
        "%run testmodule.py  # %run을 사용하여 모듈을 실행"
      ],
      "execution_count": 0,
      "outputs": []
    },
    {
      "metadata": {
        "id": "gAFNkH2S8ok_",
        "colab_type": "text"
      },
      "cell_type": "markdown",
      "source": [
        "### 클래스와 모듈"
      ]
    },
    {
      "metadata": {
        "id": "SQC5eaER8olA",
        "colab_type": "code",
        "colab": {}
      },
      "cell_type": "code",
      "source": [
        "# bookmark 모듈을 임포트 함\n",
        "import bookmark     # bookmark 모듈을 임포트 함\n",
        "# Bookmark 클래스에서 인스턴스를 만듦\n",
        "b = bookmark.Bookmark(\"타이틀\", \"http://path.to/site\")"
      ],
      "execution_count": 0,
      "outputs": []
    },
    {
      "metadata": {
        "id": "3tU9Ufq48olB",
        "colab_type": "code",
        "colab": {}
      },
      "cell_type": "code",
      "source": [
        "b"
      ],
      "execution_count": 0,
      "outputs": []
    },
    {
      "metadata": {
        "id": "Fh77XwbC8olB",
        "colab_type": "code",
        "colab": {}
      },
      "cell_type": "code",
      "source": [
        "# from문을 사용하여 Bookmark 클래스를 임포트 함\n",
        "from bookmark import Bookmark # bookmark 모듈을 임포트 함\n",
        "b2 = Bookmark(\"타이틀\", \"http://path.to/site\")"
      ],
      "execution_count": 0,
      "outputs": []
    },
    {
      "metadata": {
        "id": "Kxo4fGpK8olD",
        "colab_type": "code",
        "colab": {}
      },
      "cell_type": "code",
      "source": [
        "b2"
      ],
      "execution_count": 0,
      "outputs": []
    },
    {
      "metadata": {
        "id": "i89RCHYg8olD",
        "colab_type": "code",
        "colab": {}
      },
      "cell_type": "code",
      "source": [
        "dir(b2)"
      ],
      "execution_count": 0,
      "outputs": []
    },
    {
      "metadata": {
        "id": "oL1Fnlj78olF",
        "colab_type": "code",
        "colab": {}
      },
      "cell_type": "code",
      "source": [
        "b2.title, b2.url"
      ],
      "execution_count": 0,
      "outputs": []
    },
    {
      "metadata": {
        "id": "h5_n5QzS8olG",
        "colab_type": "code",
        "colab": {}
      },
      "cell_type": "code",
      "source": [
        "# bookmark.Bookmark 클래스의 상속\n",
        "import bookmark # bookmark 모듈을 임포트 함\n",
        "\n",
        "class Blogmark(bookmark.Bookmark):\n",
        "    pass"
      ],
      "execution_count": 0,
      "outputs": []
    },
    {
      "metadata": {
        "id": "YB0dsjIb8olG",
        "colab_type": "code",
        "colab": {}
      },
      "cell_type": "code",
      "source": [
        "# from 문장을 사용하여 Bookmark 클래스를 임포트해서 상속함\n",
        "from bookmark import Bookmark # bookmark 모듈을 임포트 함\n",
        "class Blogmark(Bookmark):\n",
        "    pass"
      ],
      "execution_count": 0,
      "outputs": []
    },
    {
      "metadata": {
        "id": "th2WEqr28olH",
        "colab_type": "text"
      },
      "cell_type": "markdown",
      "source": [
        "***"
      ]
    },
    {
      "metadata": {
        "id": "I5VXVHIi8olH",
        "colab_type": "text"
      },
      "cell_type": "markdown",
      "source": [
        "## [wk09] homework\n",
        "\n",
        "> 다음 Youtube 강의를 들으면서 파이썬 노트북을 만들어서 각자의 github에 올리시오.(마감: 2018.10.28. 24:00)\n",
        "\n",
        "#### 제출 파일명: Summary_class.ipynb\n"
      ]
    },
    {
      "metadata": {
        "id": "11MY6HkB8olH",
        "colab_type": "code",
        "outputId": "8c78b7d4-3166-43fa-8232-b232ca0d264c",
        "colab": {
          "base_uri": "https://localhost:8080/",
          "height": 320
        }
      },
      "cell_type": "code",
      "source": [
        "from IPython.lib.display import YouTubeVideo\n",
        "YouTubeVideo('5Xy5Ju7hYo4')  # 파이썬 클래스, 예외처리, with"
      ],
      "execution_count": 96,
      "outputs": [
        {
          "output_type": "execute_result",
          "data": {
            "text/html": [
              "\n",
              "        <iframe\n",
              "            width=\"400\"\n",
              "            height=\"300\"\n",
              "            src=\"https://www.youtube.com/embed/5Xy5Ju7hYo4\"\n",
              "            frameborder=\"0\"\n",
              "            allowfullscreen\n",
              "        ></iframe>\n",
              "        "
            ],
            "text/plain": [
              "<IPython.lib.display.YouTubeVideo at 0x7f13ebd74668>"
            ],
            "image/jpeg": "[encoded data removed]"
          },
          "metadata": {
            "tags": []
          },
          "execution_count": 96
        }
      ]
    },
    {
      "metadata": {
        "id": "79kmelRq8olJ",
        "colab_type": "text"
      },
      "cell_type": "markdown",
      "source": [
        "***"
      ]
    },
    {
      "metadata": {
        "id": "RZeuwiTD8olJ",
        "colab_type": "code",
        "colab": {}
      },
      "cell_type": "code",
      "source": [
        ""
      ],
      "execution_count": 0,
      "outputs": []
    }
  ]
}