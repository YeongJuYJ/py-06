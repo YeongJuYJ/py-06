{
  "nbformat": 4,
  "nbformat_minor": 0,
  "metadata": {
    "colab": {
      "name": "Py06_Summary_numpy1",
      "version": "0.3.2",
      "provenance": [],
      "include_colab_link": true
    },
    "kernelspec": {
      "name": "python3",
      "display_name": "Python 3"
    }
  },
  "cells": [
    {
      "cell_type": "markdown",
      "metadata": {
        "id": "view-in-github",
        "colab_type": "text"
      },
      "source": [
        "<a href=\"https://colab.research.google.com/github/YeongJuYJ/py-06/blob/master/homework/Py06_Summary_numpy1.ipynb\" target=\"_parent\"><img src=\"https://colab.research.google.com/assets/colab-badge.svg\" alt=\"Open In Colab\"/></a>"
      ]
    },
    {
      "metadata": {
        "id": "f1x3F3ZdBDqs",
        "colab_type": "text"
      },
      "cell_type": "markdown",
      "source": [
        "##라이브러리-overview"
      ]
    },
    {
      "metadata": {
        "id": "InhqVAVr_C5d",
        "colab_type": "code",
        "outputId": "33a6e7db-8271-4592-fefd-bc128f9eed22",
        "colab": {
          "base_uri": "https://localhost:8080/",
          "height": 35
        }
      },
      "cell_type": "code",
      "source": [
        "import numpy\n",
        "A = numpy.array([1,2])\n",
        "print(\"A ==\", A, \", type ==\", type(A))"
      ],
      "execution_count": 0,
      "outputs": [
        {
          "output_type": "stream",
          "text": [
            "A == [1 2] , type == <class 'numpy.ndarray'>\n"
          ],
          "name": "stdout"
        }
      ]
    },
    {
      "metadata": {
        "id": "lZhCb7cxAO-f",
        "colab_type": "code",
        "outputId": "58762650-b18d-4fb3-c166-dbc8383bb8bc",
        "colab": {
          "base_uri": "https://localhost:8080/",
          "height": 35
        }
      },
      "cell_type": "code",
      "source": [
        "import numpy as np\n",
        "A = np.array([1,2])\n",
        "print(\"A ==\", A, \", type ==\", type(A))"
      ],
      "execution_count": 0,
      "outputs": [
        {
          "output_type": "stream",
          "text": [
            "A == [1 2] , type == <class 'numpy.ndarray'>\n"
          ],
          "name": "stdout"
        }
      ]
    },
    {
      "metadata": {
        "id": "EZR9vsqiAdUc",
        "colab_type": "code",
        "outputId": "4a41c6ef-17ec-4aa8-ff7a-3324a41f91d5",
        "colab": {
          "base_uri": "https://localhost:8080/",
          "height": 35
        }
      },
      "cell_type": "code",
      "source": [
        "from numpy import exp\n",
        "result = exp(1)\n",
        "print(\"result ==\", result, \", type ==\", type(result))"
      ],
      "execution_count": 0,
      "outputs": [
        {
          "output_type": "stream",
          "text": [
            "result == 2.718281828459045 , type == <class 'numpy.float64'>\n"
          ],
          "name": "stdout"
        }
      ]
    },
    {
      "metadata": {
        "id": "PE9Sml3lAr7o",
        "colab_type": "code",
        "outputId": "292cc1bc-9347-4ba9-a2de-4b8027dd8c2b",
        "colab": {
          "base_uri": "https://localhost:8080/",
          "height": 35
        }
      },
      "cell_type": "code",
      "source": [
        "from numpy import *\n",
        "result = exp(1) + log(1.7) + sqrt(2)\n",
        "print(\"result ==\",result, \", type ==\",type(result))"
      ],
      "execution_count": 0,
      "outputs": [
        {
          "output_type": "stream",
          "text": [
            "result == 4.663123641894311 , type == <class 'numpy.float64'>\n"
          ],
          "name": "stdout"
        }
      ]
    },
    {
      "metadata": {
        "id": "LH8BtVoeBIZq",
        "colab_type": "code",
        "colab": {}
      },
      "cell_type": "code",
      "source": [
        "import numpy as np"
      ],
      "execution_count": 0,
      "outputs": []
    },
    {
      "metadata": {
        "id": "yGLxMIhvBQKg",
        "colab_type": "code",
        "outputId": "73451f47-3932-4d33-b975-bab9f97b96f0",
        "colab": {
          "base_uri": "https://localhost:8080/",
          "height": 35
        }
      },
      "cell_type": "code",
      "source": [
        "#리스트로 행렬 표현\n",
        "\n",
        "A = [[1,0],[0,1]]\n",
        "B = [[1,1],[1,1]]\n",
        "A+B         #행렬 연산이 아닌 리스트 연산!"
      ],
      "execution_count": 0,
      "outputs": [
        {
          "output_type": "execute_result",
          "data": {
            "text/plain": [
              "[[1, 0], [0, 1], [1, 1], [1, 1]]"
            ]
          },
          "metadata": {
            "tags": []
          },
          "execution_count": 8
        }
      ]
    },
    {
      "metadata": {
        "id": "jzfypr9BBUsR",
        "colab_type": "code",
        "outputId": "d785ee2d-55eb-45ff-b47b-953003011bfa",
        "colab": {
          "base_uri": "https://localhost:8080/",
          "height": 53
        }
      },
      "cell_type": "code",
      "source": [
        "#numpy matrix, 직관적임\n",
        "\n",
        "A = np.array([[1,0],[0,1]])\n",
        "B = np.array([[1,1],[1,1]])\n",
        "A+B             #행렬 연산"
      ],
      "execution_count": 0,
      "outputs": [
        {
          "output_type": "execute_result",
          "data": {
            "text/plain": [
              "array([[2, 1],\n",
              "       [1, 2]])"
            ]
          },
          "metadata": {
            "tags": []
          },
          "execution_count": 9
        }
      ]
    },
    {
      "metadata": {
        "id": "LDAneeBRBdJx",
        "colab_type": "code",
        "outputId": "a245619f-8f24-4da3-f2dd-26a2bd1a7dfd",
        "colab": {
          "base_uri": "https://localhost:8080/",
          "height": 71
        }
      },
      "cell_type": "code",
      "source": [
        "A = np.array([1,2,3])\n",
        "B = np.array([4,5,6])\n",
        "\n",
        "#vector A, B 출력\n",
        "print(\"A ==\", A, \", B ==\", B)\n",
        "\n",
        "#vector A,B 형상 출력 => shape\n",
        "print(\"A.shape ==\", A.shape, \"B.shape ==\",B.shape)\n",
        "\n",
        "#vector A,B 차원 출력 => ndim\n",
        "print(\"A.ndim ==\", A.ndim, \"B.ndim ==\",B.ndim)"
      ],
      "execution_count": 0,
      "outputs": [
        {
          "output_type": "stream",
          "text": [
            "A == [1 2 3] , B == [4 5 6]\n",
            "A.shape == (3,) B.shape == (3,)\n",
            "A.ndim == 1 B.ndim == 1\n"
          ],
          "name": "stdout"
        }
      ]
    },
    {
      "metadata": {
        "id": "4WXehDiHBxO7",
        "colab_type": "code",
        "outputId": "0e54909c-fca4-4594-fc99-9d5ea614e79d",
        "colab": {
          "base_uri": "https://localhost:8080/",
          "height": 89
        }
      },
      "cell_type": "code",
      "source": [
        "#vector 산술 연산\n",
        "\n",
        "print(\"A + B ==\", A+B)\n",
        "print(\"A - B ==\", A-B)\n",
        "print(\"A * B ==\", A*B)\n",
        "print(\"A / B ==\", A/B)"
      ],
      "execution_count": 0,
      "outputs": [
        {
          "output_type": "stream",
          "text": [
            "A + B == [5 7 9]\n",
            "A - B == [-3 -3 -3]\n",
            "A * B == [ 4 10 18]\n",
            "A / B == [0.25 0.4  0.5 ]\n"
          ],
          "name": "stdout"
        }
      ]
    },
    {
      "metadata": {
        "id": "mEbFOywRB0Y0",
        "colab_type": "code",
        "outputId": "14deaf58-45df-4f58-da14-cca00987e438",
        "colab": {
          "base_uri": "https://localhost:8080/",
          "height": 53
        }
      },
      "cell_type": "code",
      "source": [
        "A = np.array([[1,2,3],[4,5,6]])\n",
        "B = np.array([[-1,-2,-3],[-4,-5,-6]])\n",
        "\n",
        "#matrix A,B 형상 출력 => shape\n",
        "print(\"A.shape ==\", A.shape, \", B.shape ==\", B.shape)\n",
        "\n",
        "#matrix A,B차원 출력 => ndim\n",
        "print(\"A.ndim ==\",A.ndim, \"B.ndim ==\", B.ndim)"
      ],
      "execution_count": 0,
      "outputs": [
        {
          "output_type": "stream",
          "text": [
            "A.shape == (2, 3) , B.shape == (2, 3)\n",
            "A.ndim == 2 B.ndim == 2\n"
          ],
          "name": "stdout"
        }
      ]
    },
    {
      "metadata": {
        "id": "yHxcpY8hCDCX",
        "colab_type": "code",
        "outputId": "a9652e88-f3ac-4323-cbcf-7c6af83520ff",
        "colab": {
          "base_uri": "https://localhost:8080/",
          "height": 53
        }
      },
      "cell_type": "code",
      "source": [
        "#vector 생성\n",
        "\n",
        "C = np.array([1,2,3])\n",
        "\n",
        "# vector C형상 출력 => shape\n",
        "print(\"C.shape ==\", C.shape)\n",
        "\n",
        "# vector를 (1,3) 행렬로 형 변환\n",
        "C=C.reshape(1,3)\n",
        "\n",
        "print(\"C.shape ==\", C.shape)"
      ],
      "execution_count": 0,
      "outputs": [
        {
          "output_type": "stream",
          "text": [
            "C.shape == (3,)\n",
            "C.shape == (1, 3)\n"
          ],
          "name": "stdout"
        }
      ]
    },
    {
      "metadata": {
        "id": "VxX_qI1cCSCk",
        "colab_type": "code",
        "colab": {}
      },
      "cell_type": "code",
      "source": [
        ""
      ],
      "execution_count": 0,
      "outputs": []
    }
  ]
}