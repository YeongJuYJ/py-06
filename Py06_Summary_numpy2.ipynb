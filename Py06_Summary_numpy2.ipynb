{
  "nbformat": 4,
  "nbformat_minor": 0,
  "metadata": {
    "colab": {
      "name": "Py06_Summary_numpy2.ipynb",
      "version": "0.3.2",
      "provenance": [],
      "include_colab_link": true
    },
    "kernelspec": {
      "name": "python3",
      "display_name": "Python 3"
    }
  },
  "cells": [
    {
      "cell_type": "markdown",
      "metadata": {
        "id": "view-in-github",
        "colab_type": "text"
      },
      "source": [
        "<a href=\"https://colab.research.google.com/github/YeongJuYJ/py-06/blob/master/Py06_Summary_numpy2.ipynb\" target=\"_parent\"><img src=\"https://colab.research.google.com/assets/colab-badge.svg\" alt=\"Open In Colab\"/></a>"
      ]
    },
    {
      "metadata": {
        "id": "lnz3A2RdEr3u",
        "colab_type": "toc"
      },
      "cell_type": "markdown",
      "source": [
        ">>>[broadcast](#updateTitle=true&folderId=10ybKcIevEsEiBaAgsMvhGCrXGu_jh76k&scrollTo=bIVMRm0fDQ-H)\n",
        "\n",
        ">>>[전치행렬](#updateTitle=true&folderId=10ybKcIevEsEiBaAgsMvhGCrXGu_jh76k&scrollTo=ilAi1huyD0zD)\n",
        "\n",
        ">>>[행렬 indexing/slicing](#updateTitle=true&folderId=10ybKcIevEsEiBaAgsMvhGCrXGu_jh76k&scrollTo=Ad6BHwAvD_lM)\n",
        "\n",
        ">>>[numpy iterator](#updateTitle=true&folderId=10ybKcIevEsEiBaAgsMvhGCrXGu_jh76k&scrollTo=hur5-jk1EVHX)\n",
        "\n"
      ]
    },
    {
      "metadata": {
        "id": "Mfr8atdnCo7v",
        "colab_type": "code",
        "colab": {
          "base_uri": "https://localhost:8080/",
          "height": 89
        },
        "outputId": "115940cb-8832-4495-ba93-f3c502506e7e"
      },
      "cell_type": "code",
      "source": [
        "import numpy as np\n",
        "A = np.array([[1,2,3,],[4,5,6]]) # 2X3 행렬\n",
        "B = np.array([[-1,-2],[-3,-4],[-5,-6]]) # 3X2 행렬\n",
        "\n",
        "# (2X3) dot product(3X2) == (2X2) 행렬\n",
        "C=np.dot(A,B) # 행렬 곱 수행\n",
        "\n",
        "# matrix A,B 형상 출력 => shape\n",
        "print(\"A.shape ==\", A.shape, \"B.shape ==\", B.shape)\n",
        "print(\"C.shape ==\", C.shape)\n",
        "print(C)"
      ],
      "execution_count": 3,
      "outputs": [
        {
          "output_type": "stream",
          "text": [
            "A.shape == (2, 3) B.shape == (3, 2)\n",
            "C.shape == (2, 2)\n",
            "[[-22 -28]\n",
            " [-49 -64]]\n"
          ],
          "name": "stdout"
        }
      ]
    },
    {
      "metadata": {
        "id": "bIVMRm0fDQ-H",
        "colab_type": "text"
      },
      "cell_type": "markdown",
      "source": [
        "###broadcast"
      ]
    },
    {
      "metadata": {
        "id": "RcLMAsoJDLwJ",
        "colab_type": "code",
        "colab": {
          "base_uri": "https://localhost:8080/",
          "height": 53
        },
        "outputId": "5bb6b3c7-6ad0-4d27-914d-9a6a09f7a3b4"
      },
      "cell_type": "code",
      "source": [
        "A = np.array([[1,2],[3,4]])\n",
        "b = 5\n",
        "\n",
        "print(A+b)"
      ],
      "execution_count": 4,
      "outputs": [
        {
          "output_type": "stream",
          "text": [
            "[[6 7]\n",
            " [8 9]]\n"
          ],
          "name": "stdout"
        }
      ]
    },
    {
      "metadata": {
        "id": "-ZM1295yDfTm",
        "colab_type": "code",
        "colab": {
          "base_uri": "https://localhost:8080/",
          "height": 53
        },
        "outputId": "fa27a5fd-e909-4a81-b1c9-093c1e708ec7"
      },
      "cell_type": "code",
      "source": [
        "C = np.array([[1,2],[3,4]])\n",
        "D = np.array([4,5])\n",
        "\n",
        "print(C+D)"
      ],
      "execution_count": 5,
      "outputs": [
        {
          "output_type": "stream",
          "text": [
            "[[5 7]\n",
            " [7 9]]\n"
          ],
          "name": "stdout"
        }
      ]
    },
    {
      "metadata": {
        "id": "ilAi1huyD0zD",
        "colab_type": "text"
      },
      "cell_type": "markdown",
      "source": [
        "###전치행렬"
      ]
    },
    {
      "metadata": {
        "id": "g0Pfz38IDiDS",
        "colab_type": "code",
        "colab": {
          "base_uri": "https://localhost:8080/",
          "height": 125
        },
        "outputId": "1886264d-0cf9-4e7a-aaa8-6ecfabdba77f"
      },
      "cell_type": "code",
      "source": [
        "A = np.array([[1,2],[3,4],[5,6]]) #3X2 행렬\n",
        "B = A.T #A의 전치행렬, 2X3 행렬\n",
        "\n",
        "print(\"A.shape ==\", A.shape, \"B.shape ==\", B.shape)\n",
        "print(A)\n",
        "print(B)"
      ],
      "execution_count": 6,
      "outputs": [
        {
          "output_type": "stream",
          "text": [
            "A.shape == (3, 2) B.shape == (2, 3)\n",
            "[[1 2]\n",
            " [3 4]\n",
            " [5 6]]\n",
            "[[1 3 5]\n",
            " [2 4 6]]\n"
          ],
          "name": "stdout"
        }
      ]
    },
    {
      "metadata": {
        "id": "hZhKze79DoVn",
        "colab_type": "code",
        "colab": {
          "base_uri": "https://localhost:8080/",
          "height": 143
        },
        "outputId": "b863d3cb-a27d-49c5-ecb4-b67810b6588f"
      },
      "cell_type": "code",
      "source": [
        "#vector 전치행렬\n",
        "\n",
        "C = np.array([1,2,3,4,5]) #vector,matrix 아님\n",
        "D = C.T  #C는 vector 이므로 transpose 안됨\n",
        "\n",
        "E = C.reshape(1,5) #1X5 matrix\n",
        "F = E.T  #E의 전치행렬\n",
        "\n",
        "print(\"C.shape ==\", C.shape, \"D.shape ==\", D.shape)\n",
        "print(\"E.shape ==\", E.shape, \"F.shape ==\", F.shape)\n",
        "print(F)"
      ],
      "execution_count": 7,
      "outputs": [
        {
          "output_type": "stream",
          "text": [
            "C.shape == (5,) D.shape == (5,)\n",
            "E.shape == (1, 5) F.shape == (5, 1)\n",
            "[[1]\n",
            " [2]\n",
            " [3]\n",
            " [4]\n",
            " [5]]\n"
          ],
          "name": "stdout"
        }
      ]
    },
    {
      "metadata": {
        "id": "Ad6BHwAvD_lM",
        "colab_type": "text"
      },
      "cell_type": "markdown",
      "source": [
        "###행렬 indexing/slicing"
      ]
    },
    {
      "metadata": {
        "id": "u-KPjRYNDwh5",
        "colab_type": "code",
        "colab": {
          "base_uri": "https://localhost:8080/",
          "height": 89
        },
        "outputId": "85c91d8d-f016-428d-c96f-1b3eabf500cf"
      },
      "cell_type": "code",
      "source": [
        "A = np.array([10,20,30,40,50,60]).reshape(3,2) \n",
        "\n",
        "print(\"A.shape ==\", A.shape)\n",
        "print(A)"
      ],
      "execution_count": 8,
      "outputs": [
        {
          "output_type": "stream",
          "text": [
            "A.shape == (3, 2)\n",
            "[[10 20]\n",
            " [30 40]\n",
            " [50 60]]\n"
          ],
          "name": "stdout"
        }
      ]
    },
    {
      "metadata": {
        "id": "LlL4ILY8EC-R",
        "colab_type": "code",
        "colab": {
          "base_uri": "https://localhost:8080/",
          "height": 53
        },
        "outputId": "6a6c8e2e-a880-4ed5-c788-1e4bca32c708"
      },
      "cell_type": "code",
      "source": [
        "print(\"A[0,0] ==\", A[0,0],\"A[0][0] ==\", A[0][0])     \n",
        "print(\"A[2,1] ==\", A[2,1],\"A[2][1] ==\", A[2][1])     "
      ],
      "execution_count": 10,
      "outputs": [
        {
          "output_type": "stream",
          "text": [
            "A[0,0] == 10 A[0][0] == 10\n",
            "A[2,1] == 60 A[2][1] == 60\n"
          ],
          "name": "stdout"
        }
      ]
    },
    {
      "metadata": {
        "id": "C6X1DC3DEHdf",
        "colab_type": "code",
        "colab": {
          "base_uri": "https://localhost:8080/",
          "height": 53
        },
        "outputId": "3dcf6179-71b7-4b2b-f237-65fd09358525"
      },
      "cell_type": "code",
      "source": [
        "print(\"A[0:-1, 1:2] ==\", A[0:-1, 1:2])"
      ],
      "execution_count": 11,
      "outputs": [
        {
          "output_type": "stream",
          "text": [
            "A[0:-1, 1:2] == [[20]\n",
            " [40]]\n"
          ],
          "name": "stdout"
        }
      ]
    },
    {
      "metadata": {
        "id": "aI3Q7P-MEOLk",
        "colab_type": "code",
        "colab": {
          "base_uri": "https://localhost:8080/",
          "height": 89
        },
        "outputId": "788917f3-411d-4fee-891b-d1a5a643e66d"
      },
      "cell_type": "code",
      "source": [
        "print(\"A[:, 0] ==\", A[:, 0])\n",
        "print(\"A[:, :] ==\", A[:, :])"
      ],
      "execution_count": 12,
      "outputs": [
        {
          "output_type": "stream",
          "text": [
            "A[:, 0] == [10 30 50]\n",
            "A[:, :] == [[10 20]\n",
            " [30 40]\n",
            " [50 60]]\n"
          ],
          "name": "stdout"
        }
      ]
    },
    {
      "metadata": {
        "id": "hur5-jk1EVHX",
        "colab_type": "text"
      },
      "cell_type": "markdown",
      "source": [
        "###numpy iterator"
      ]
    },
    {
      "metadata": {
        "id": "JDUqQu36EQpl",
        "colab_type": "code",
        "colab": {
          "base_uri": "https://localhost:8080/",
          "height": 251
        },
        "outputId": "8cc14bb1-95af-41e9-ee6c-1df63efd38a4"
      },
      "cell_type": "code",
      "source": [
        "import numpy as np\n",
        "A = np.array([[10,20,30,40],[50,60,70,80]])\n",
        "\n",
        "print(A, \"\\n\")\n",
        "print(\"A.shape ==\", A.shape, \"\\n\")\n",
        "\n",
        "#행렬 A의 iterator생성\n",
        "\n",
        "it = np.nditer(A, flags = [\"multi_index\"], op_flags = [\"readwrite\"])\n",
        "\n",
        "while not it.finished:\n",
        "  \n",
        "  idx=it.multi_index\n",
        "  \n",
        "  print(\"current value => \", A[idx])\n",
        "  \n",
        "  it.iternext()"
      ],
      "execution_count": 13,
      "outputs": [
        {
          "output_type": "stream",
          "text": [
            "[[10 20 30 40]\n",
            " [50 60 70 80]] \n",
            "\n",
            "A.shape == (2, 4) \n",
            "\n",
            "current value =>  10\n",
            "current value =>  20\n",
            "current value =>  30\n",
            "current value =>  40\n",
            "current value =>  50\n",
            "current value =>  60\n",
            "current value =>  70\n",
            "current value =>  80\n"
          ],
          "name": "stdout"
        }
      ]
    },
    {
      "metadata": {
        "id": "nV5v2cFzEntU",
        "colab_type": "code",
        "colab": {}
      },
      "cell_type": "code",
      "source": [
        ""
      ],
      "execution_count": 0,
      "outputs": []
    }
  ]
}