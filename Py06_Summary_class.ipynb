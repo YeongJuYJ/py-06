{
  "nbformat": 4,
  "nbformat_minor": 0,
  "metadata": {
    "colab": {
      "name": "Py06_Summary_class.ipynb",
      "version": "0.3.2",
      "provenance": [],
      "collapsed_sections": [],
      "include_colab_link": true
    },
    "kernelspec": {
      "name": "python3",
      "display_name": "Python 3"
    }
  },
  "cells": [
    {
      "cell_type": "markdown",
      "metadata": {
        "id": "view-in-github",
        "colab_type": "text"
      },
      "source": [
        "<a href=\"https://colab.research.google.com/github/YeongJuYJ/py-06/blob/master/Py06_Summary_class.ipynb\" target=\"_parent\"><img src=\"https://colab.research.google.com/assets/colab-badge.svg\" alt=\"Open In Colab\"/></a>"
      ]
    },
    {
      "metadata": {
        "id": "KaeK53LlKGaG",
        "colab_type": "toc"
      },
      "cell_type": "markdown",
      "source": [
        ">>[클래스 - class](#updateTitle=true&folderId=10ybKcIevEsEiBaAgsMvhGCrXGu_jh76k&scrollTo=LPmLJYGGBjs-)\n",
        "\n",
        ">>>[클래스1](#updateTitle=true&folderId=10ybKcIevEsEiBaAgsMvhGCrXGu_jh76k&scrollTo=eVno3PHDEPub)\n",
        "\n",
        ">>>[클래스2](#updateTitle=true&folderId=10ybKcIevEsEiBaAgsMvhGCrXGu_jh76k&scrollTo=8pOeZVCDEUSn)\n",
        "\n",
        ">>>[클래스3](#updateTitle=true&folderId=10ybKcIevEsEiBaAgsMvhGCrXGu_jh76k&scrollTo=qWiB44cREWpZ)\n",
        "\n",
        ">>>[클래스4](#updateTitle=true&folderId=10ybKcIevEsEiBaAgsMvhGCrXGu_jh76k&scrollTo=pDFkDkJcGTIw)\n",
        "\n",
        ">>[예외처리 클래스](#updateTitle=true&folderId=10ybKcIevEsEiBaAgsMvhGCrXGu_jh76k&scrollTo=nn4TQEbVH392)\n",
        "\n",
        ">>[with 구문](#updateTitle=true&folderId=10ybKcIevEsEiBaAgsMvhGCrXGu_jh76k&scrollTo=NGwPCKNXJEu4)\n",
        "\n"
      ]
    },
    {
      "metadata": {
        "id": "LPmLJYGGBjs-",
        "colab_type": "text"
      },
      "cell_type": "markdown",
      "source": [
        "##클래스 - class"
      ]
    },
    {
      "metadata": {
        "id": "eVno3PHDEPub",
        "colab_type": "text"
      },
      "cell_type": "markdown",
      "source": [
        "###클래스1"
      ]
    },
    {
      "metadata": {
        "id": "wU_XUo-TAPbq",
        "colab_type": "code",
        "colab": {
          "base_uri": "https://localhost:8080/",
          "height": 89
        },
        "outputId": "02af3fd0-9671-487a-e3f7-ff7680567437"
      },
      "cell_type": "code",
      "source": [
        "class Person:\n",
        "  \n",
        "  def __init__(self, name):\n",
        "    self.name = name\n",
        "    print(self.name + \" is initialized\")\n",
        "    \n",
        "  def work(self, company):\n",
        "    print(self.name + \" is working in \" + company)\n",
        "    \n",
        "  def sleep(self):\n",
        "    print(self.name + \" is sleeping\")\n",
        "  \n",
        "# Person instance 2개 생성\n",
        "obj = Person(\"PARK\")\n",
        "\n",
        "# method call\n",
        "obj.work(\"ABCDEF\")\n",
        "obj.sleep()\n",
        "\n",
        "# 속성에 직접 접근, 기본적으로 파이썬에서는 모두 public \n",
        "print(\"current person object is \", obj.name)"
      ],
      "execution_count": 3,
      "outputs": [
        {
          "output_type": "stream",
          "text": [
            "PARK is initialized\n",
            "PARK is working in ABCDEF\n",
            "PARK is sleeping\n",
            "current person object is  PARK\n"
          ],
          "name": "stdout"
        }
      ]
    },
    {
      "metadata": {
        "id": "8pOeZVCDEUSn",
        "colab_type": "text"
      },
      "cell_type": "markdown",
      "source": [
        "###클래스2"
      ]
    },
    {
      "metadata": {
        "id": "lw75hwGECq_t",
        "colab_type": "code",
        "colab": {
          "base_uri": "https://localhost:8080/",
          "height": 143
        },
        "outputId": "11f55210-cc0a-4b58-a8dd-fc091d873713"
      },
      "cell_type": "code",
      "source": [
        "class Person:\n",
        "  \n",
        "  count = 0\n",
        "  \n",
        "  def __init__(self, name):\n",
        "    self.name = name\n",
        "    Person.count += 1    # class 변수 count 증가\n",
        "    print(self.name + \" is initialized\")\n",
        "    \n",
        "  def work(self, company):\n",
        "    print(self.name + \" is working in \" + company)\n",
        "    \n",
        "  def sleep(self):\n",
        "    print(self.name + \" is sleeping\")\n",
        "  \n",
        "  @classmethod \n",
        "  def getCount(cls):\n",
        "    return cls.count\n",
        "  \n",
        "# Person instance 2개 생성\n",
        "obj1 = Person(\"PARK\")\n",
        "obj2 = Person(\"KIM\")\n",
        "\n",
        "# method call\n",
        "obj1.work(\"ABCDEF\")\n",
        "\n",
        "obj2.sleep()\n",
        "\n",
        "# 속성에 직접 접근, 기본적으로 파이썬에서는 모두 public \n",
        "print(\"current person object is \", obj1.name, \", \", obj2.name)\n",
        "\n",
        "# class method 호출\n",
        "print(\"Person count ==\", Person.getCount() )\n",
        "\n",
        "# class variable direct access\n",
        "print(Person.count)"
      ],
      "execution_count": 4,
      "outputs": [
        {
          "output_type": "stream",
          "text": [
            "PARK is initialized\n",
            "KIM is initialized\n",
            "PARK is working in ABCDEF\n",
            "KIM is sleeping\n",
            "current person object is  PARK ,  KIM\n",
            "Person count == 2\n",
            "2\n"
          ],
          "name": "stdout"
        }
      ]
    },
    {
      "metadata": {
        "id": "qWiB44cREWpZ",
        "colab_type": "text"
      },
      "cell_type": "markdown",
      "source": [
        "###클래스3"
      ]
    },
    {
      "metadata": {
        "id": "JWGctIx6EAOi",
        "colab_type": "code",
        "colab": {
          "base_uri": "https://localhost:8080/",
          "height": 298
        },
        "outputId": "25dfe979-b92b-4682-9787-d1bcad8e242d"
      },
      "cell_type": "code",
      "source": [
        "class PrivateMemberTest:\n",
        "  \n",
        "  def __init__(self, name1, name2):\n",
        "    \n",
        "    self.name1 = name1\n",
        "    self.__name2 = name2    #private member variable\n",
        "    print(\"initialized with \" + name1 + \" ,\" + name2)\n",
        "    \n",
        "  def getNames(self):\n",
        "    self.__printNames()\n",
        "    return self.name1, self.__name2\n",
        "  \n",
        "  def __printNames(self):\n",
        "    print(self.name1, self.__name2)\n",
        "  \n",
        "# 인스턴스 생성\n",
        "obj = PrivateMemberTest(\"PARK\", \"KIM\")\n",
        "  \n",
        "print(obj.name1)\n",
        "print(obj.getNames())\n",
        "print(obj.__printNames())     # error 발생\n",
        "print(obj.__name2)            # error 발생"
      ],
      "execution_count": 7,
      "outputs": [
        {
          "output_type": "stream",
          "text": [
            "initialized with PARK ,KIM\n",
            "PARK\n",
            "PARK KIM\n",
            "('PARK', 'KIM')\n"
          ],
          "name": "stdout"
        },
        {
          "output_type": "error",
          "ename": "AttributeError",
          "evalue": "ignored",
          "traceback": [
            "\u001b[0;31m---------------------------------------------------------------------------\u001b[0m",
            "\u001b[0;31mAttributeError\u001b[0m                            Traceback (most recent call last)",
            "\u001b[0;32m<ipython-input-7-456e3d7c7b49>\u001b[0m in \u001b[0;36m<module>\u001b[0;34m()\u001b[0m\n\u001b[1;32m     19\u001b[0m \u001b[0mprint\u001b[0m\u001b[0;34m(\u001b[0m\u001b[0mobj\u001b[0m\u001b[0;34m.\u001b[0m\u001b[0mname1\u001b[0m\u001b[0;34m)\u001b[0m\u001b[0;34m\u001b[0m\u001b[0m\n\u001b[1;32m     20\u001b[0m \u001b[0mprint\u001b[0m\u001b[0;34m(\u001b[0m\u001b[0mobj\u001b[0m\u001b[0;34m.\u001b[0m\u001b[0mgetNames\u001b[0m\u001b[0;34m(\u001b[0m\u001b[0;34m)\u001b[0m\u001b[0;34m)\u001b[0m\u001b[0;34m\u001b[0m\u001b[0m\n\u001b[0;32m---> 21\u001b[0;31m \u001b[0mprint\u001b[0m\u001b[0;34m(\u001b[0m\u001b[0mobj\u001b[0m\u001b[0;34m.\u001b[0m\u001b[0m__printNames\u001b[0m\u001b[0;34m(\u001b[0m\u001b[0;34m)\u001b[0m\u001b[0;34m)\u001b[0m     \u001b[0;31m# error 발생\u001b[0m\u001b[0;34m\u001b[0m\u001b[0m\n\u001b[0m\u001b[1;32m     22\u001b[0m \u001b[0mprint\u001b[0m\u001b[0;34m(\u001b[0m\u001b[0mobj\u001b[0m\u001b[0;34m.\u001b[0m\u001b[0m__name2\u001b[0m\u001b[0;34m)\u001b[0m            \u001b[0;31m# error 발생\u001b[0m\u001b[0;34m\u001b[0m\u001b[0m\n",
            "\u001b[0;31mAttributeError\u001b[0m: 'PrivateMemberTest' object has no attribute '__printNames'"
          ]
        }
      ]
    },
    {
      "metadata": {
        "id": "pDFkDkJcGTIw",
        "colab_type": "text"
      },
      "cell_type": "markdown",
      "source": [
        "###클래스4"
      ]
    },
    {
      "metadata": {
        "id": "FFlnmDOVFmFn",
        "colab_type": "code",
        "colab": {
          "base_uri": "https://localhost:8080/",
          "height": 89
        },
        "outputId": "44349dcb-64c4-47fa-b053-6bae0e94381c"
      },
      "cell_type": "code",
      "source": [
        "def print_name(name):\n",
        "  \n",
        "  print(\"[def] \", name)\n",
        "  \n",
        "class SameTest:\n",
        "  \n",
        "  def __init__(self):\n",
        "    # 아무것도 안하기 때문에 pass\n",
        "    pass\n",
        "  \n",
        "  # 외부 함수와 동일한 이름을 method 정의\n",
        "  def print_name(self, name):\n",
        "    print(\"[SameTest] \", name)\n",
        "    \n",
        "  def call_test(self):\n",
        "    \n",
        "    # 외부 함수 호출\n",
        "    print_name(\"KIM\")\n",
        "    \n",
        "    # 클래스 내부 method 호출\n",
        "    self.print_name(\"KIM\")\n",
        "    \n",
        "# create SameTest object\n",
        "obj = SameTest()\n",
        "\n",
        "# call function print_name\n",
        "print_name(\"LEE\")\n",
        "\n",
        "# call method print_name \n",
        "obj.print_name(\"LEE\")\n",
        "\n",
        "# call method call_test\n",
        "obj.call_test()"
      ],
      "execution_count": 8,
      "outputs": [
        {
          "output_type": "stream",
          "text": [
            "[def]  LEE\n",
            "[SameTest]  LEE\n",
            "[def]  KIM\n",
            "[SameTest]  KIM\n"
          ],
          "name": "stdout"
        }
      ]
    },
    {
      "metadata": {
        "id": "nn4TQEbVH392",
        "colab_type": "text"
      },
      "cell_type": "markdown",
      "source": [
        "##예외처리 클래스"
      ]
    },
    {
      "metadata": {
        "id": "8ItDcIfDH1BW",
        "colab_type": "code",
        "colab": {}
      },
      "cell_type": "code",
      "source": [
        "def calc(list_data):\n",
        "  \n",
        "  sum = 0\n",
        "  \n",
        "  try:\n",
        "    sum = list_data[0] + list_data[1] + list_data[2]\n",
        "    \n",
        "    if sum < 0:\n",
        "      raise Exception(\"Sum is minus\")\n",
        "      \n",
        "  except IndexError as err:\n",
        "    print(str(err))\n",
        "  except Exception as err:\n",
        "    print(str(err))\n",
        "  finally:\n",
        "    print(sum)"
      ],
      "execution_count": 0,
      "outputs": []
    },
    {
      "metadata": {
        "id": "xrnon1IBIaOR",
        "colab_type": "code",
        "colab": {
          "base_uri": "https://localhost:8080/",
          "height": 53
        },
        "outputId": "67345f3d-a819-40a0-caa7-fef2ac36e4f4"
      },
      "cell_type": "code",
      "source": [
        "calc([1, 2])    # index error 발생"
      ],
      "execution_count": 12,
      "outputs": [
        {
          "output_type": "stream",
          "text": [
            "list index out of range\n",
            "0\n"
          ],
          "name": "stdout"
        }
      ]
    },
    {
      "metadata": {
        "id": "9DPga_0TItop",
        "colab_type": "code",
        "colab": {
          "base_uri": "https://localhost:8080/",
          "height": 53
        },
        "outputId": "70ef9646-3e44-4ba9-b8bb-29c5ae20c9a3"
      },
      "cell_type": "code",
      "source": [
        "calc([1, 2, -100])    # 인위적인 exception 발생"
      ],
      "execution_count": 13,
      "outputs": [
        {
          "output_type": "stream",
          "text": [
            "Sum is minus\n",
            "-97\n"
          ],
          "name": "stdout"
        }
      ]
    },
    {
      "metadata": {
        "id": "NGwPCKNXJEu4",
        "colab_type": "text"
      },
      "cell_type": "markdown",
      "source": [
        "##with 구문"
      ]
    },
    {
      "metadata": {
        "id": "Hbx7G8H9I6Bu",
        "colab_type": "code",
        "colab": {}
      },
      "cell_type": "code",
      "source": [
        "# 일반적인 방법\n",
        "\n",
        "f = open(\"./file_test\", 'w')\n",
        "\n",
        "f.write(\"Hello, Python !!!\")\n",
        "\n",
        "f.close()"
      ],
      "execution_count": 0,
      "outputs": []
    },
    {
      "metadata": {
        "id": "ykz0Z4WPJjd5",
        "colab_type": "code",
        "colab": {}
      },
      "cell_type": "code",
      "source": [
        "# while 구문을 사용한 방법\n",
        "# with 블록을 벗어나는 순간 파일 객체 f가 자동으로 close 됨.\n",
        "\n",
        "\n",
        "with open(\"./file_test\", 'w')  as f:\n",
        "  f.write(\"Hello, Python !!!\")"
      ],
      "execution_count": 0,
      "outputs": []
    }
  ]
}