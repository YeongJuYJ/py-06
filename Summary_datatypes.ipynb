{
  "nbformat": 4,
  "nbformat_minor": 0,
  "metadata": {
    "colab": {
      "name": "Summary_datatypes.ipynb",
      "version": "0.3.2",
      "provenance": [],
      "include_colab_link": true
    },
    "kernelspec": {
      "name": "python3",
      "display_name": "Python 3"
    }
  },
  "cells": [
    {
      "cell_type": "markdown",
      "metadata": {
        "id": "view-in-github",
        "colab_type": "text"
      },
      "source": [
        "[View in Colaboratory](https://colab.research.google.com/github/YeongJuYJ/py-06/blob/master/Summary_datatypes.ipynb)"
      ]
    },
    {
      "metadata": {
        "id": "0AHLjYfE6Eki",
        "colab_type": "text"
      },
      "cell_type": "markdown",
      "source": [
        "##Summary of datatypes in Python\n",
        "\n",
        "- lsit\n",
        "- dictionary\n",
        "- tuple\n",
        "- set\n",
        "- string"
      ]
    },
    {
      "metadata": {
        "id": "R7iIOh8l6dr6",
        "colab_type": "text"
      },
      "cell_type": "markdown",
      "source": [
        "###리스트 생성 및 항목 추가"
      ]
    },
    {
      "metadata": {
        "id": "25f0NPL76Zxt",
        "colab_type": "code",
        "colab": {}
      },
      "cell_type": "code",
      "source": [
        " a = [ 10, 20, 30, 40 , 50 ]"
      ],
      "execution_count": 0,
      "outputs": []
    },
    {
      "metadata": {
        "id": "FP05s8xF6-hT",
        "colab_type": "code",
        "colab": {
          "base_uri": "https://localhost:8080/",
          "height": 53
        },
        "outputId": "8e26a5db-d205-4eba-acac-61b937d4e355"
      },
      "cell_type": "code",
      "source": [
        "print(\"a[0] ==\", a[0], \", a[2] ==\", a[2], \", a[4] ==\", a[4])\n",
        "print(\"a[-1] ==\", a[-1], \", a[-2] ==\", a[-2], \", a[-5] ==\", a[-5])"
      ],
      "execution_count": 6,
      "outputs": [
        {
          "output_type": "stream",
          "text": [
            "a[0] == 10 , a[2] == 30 , a[4] == 50\n",
            "a[-1] == 50 , a[-2] == 40 , a[-5] == 10\n"
          ],
          "name": "stdout"
        }
      ]
    },
    {
      "metadata": {
        "id": "4v2zfD_h7dYK",
        "colab_type": "code",
        "colab": {}
      },
      "cell_type": "code",
      "source": [
        "b = [10, 20, \"Hello\", [True, 3.14] ]"
      ],
      "execution_count": 0,
      "outputs": []
    },
    {
      "metadata": {
        "id": "RJ9ymVQB7vfI",
        "colab_type": "code",
        "colab": {
          "base_uri": "https://localhost:8080/",
          "height": 53
        },
        "outputId": "64762258-a4cd-4e45-aa7f-fae989b50a6d"
      },
      "cell_type": "code",
      "source": [
        "print(\"b[0] ==\", b[0], \", b[2] ==\", b[2], \", b[3] ==\", b[3])\n",
        "print(\"b[-1] ==\", b[-1], \", b[-2] ==\", b[-2], \", b[-4] ==\", b[-4])"
      ],
      "execution_count": 8,
      "outputs": [
        {
          "output_type": "stream",
          "text": [
            "b[0] == 10 , b[2] == Hello , b[3] == [True, 3.14]\n",
            "b[-1] == [True, 3.14] , b[-2] == Hello , b[-4] == 10\n"
          ],
          "name": "stdout"
        }
      ]
    },
    {
      "metadata": {
        "id": "T-ttDzsC8LJ7",
        "colab_type": "code",
        "colab": {
          "base_uri": "https://localhost:8080/",
          "height": 53
        },
        "outputId": "c5267c90-b315-48bd-ae45-36c3bc2fe1c6"
      },
      "cell_type": "code",
      "source": [
        "print(\"b[3][0] ==\", b[3][0], \", b[3][1] ==\", b[3][1])\n",
        "print(\"b[-1][-1] ==\", b[-1][-1], \", b[-1][-2] ==\", b[-1][-2])\n"
      ],
      "execution_count": 9,
      "outputs": [
        {
          "output_type": "stream",
          "text": [
            "b[3][0] == True , b[3][1] == 3.14\n",
            "b[-1][-1] == 3.14 , b[-1][-2] == True\n"
          ],
          "name": "stdout"
        }
      ]
    },
    {
      "metadata": {
        "id": "qihgp-wE93B8",
        "colab_type": "code",
        "colab": {
          "base_uri": "https://localhost:8080/",
          "height": 35
        },
        "outputId": "c86e810b-f5b0-410b-a457-ddc6854f0dac"
      },
      "cell_type": "code",
      "source": [
        "b[-2][-2]"
      ],
      "execution_count": 11,
      "outputs": [
        {
          "output_type": "execute_result",
          "data": {
            "text/plain": [
              "'l'"
            ]
          },
          "metadata": {
            "tags": []
          },
          "execution_count": 11
        }
      ]
    },
    {
      "metadata": {
        "id": "SkNnuDZx8gTE",
        "colab_type": "code",
        "colab": {}
      },
      "cell_type": "code",
      "source": [
        " a = [ 10, 20, 30, 40 , 50 ]"
      ],
      "execution_count": 0,
      "outputs": []
    },
    {
      "metadata": {
        "id": "q9s5o-KC92Bk",
        "colab_type": "code",
        "colab": {
          "base_uri": "https://localhost:8080/",
          "height": 71
        },
        "outputId": "1f0f70e5-1e12-4a07-f56d-a6996fef42d0"
      },
      "cell_type": "code",
      "source": [
        "print(\"a[0:2] ==\", a[0:2], \", a[1:] ==\", a[1:])\n",
        "print(\"a[:3] ==\", a[:3], \", a[:-2] ==\", a[:-2])\n",
        "print(\"a[:] ==\", a[:])"
      ],
      "execution_count": 13,
      "outputs": [
        {
          "output_type": "stream",
          "text": [
            "a[0:2] == [10, 20] , a[1:] == [20, 30, 40, 50]\n",
            "a[:3] == [10, 20, 30] , a[:-2] == [10, 20, 30]\n",
            "a[:] == [10, 20, 30, 40, 50]\n"
          ],
          "name": "stdout"
        }
      ]
    },
    {
      "metadata": {
        "id": "9y9Uy-YZB31z",
        "colab_type": "text"
      },
      "cell_type": "markdown",
      "source": [
        "###Tuple"
      ]
    },
    {
      "metadata": {
        "id": "29HvzDRY--OH",
        "colab_type": "code",
        "colab": {}
      },
      "cell_type": "code",
      "source": [
        " a = ( 10, 20, 30, 40 , 50 )"
      ],
      "execution_count": 0,
      "outputs": []
    },
    {
      "metadata": {
        "id": "VeXv54q5CGSL",
        "colab_type": "code",
        "colab": {
          "base_uri": "https://localhost:8080/",
          "height": 53
        },
        "outputId": "a75b4c7c-ed05-45ab-c96f-4a16c4fdf634"
      },
      "cell_type": "code",
      "source": [
        "print(\"a[0] ==\", a[0], \", a[-2] ==\", a[-2], \", a[:] ==\", a[:])\n",
        "print(\"a[0:2] ==\", a[0:2], \", a[1:] ==\", a[1:])"
      ],
      "execution_count": 18,
      "outputs": [
        {
          "output_type": "stream",
          "text": [
            "a[0] == 10 , a[-2] == 40 , a[:] == (10, 20, 30, 40, 50)\n",
            "a[0:2] == (10, 20) , a[1:] == (20, 30, 40, 50)\n"
          ],
          "name": "stdout"
        }
      ]
    },
    {
      "metadata": {
        "id": "5biq3VPNChlG",
        "colab_type": "code",
        "colab": {
          "base_uri": "https://localhost:8080/",
          "height": 172
        },
        "outputId": "5480cb06-305a-4112-a1ad-1ede7ddb72c4"
      },
      "cell_type": "code",
      "source": [
        "a[0] = 100"
      ],
      "execution_count": 19,
      "outputs": [
        {
          "output_type": "error",
          "ename": "TypeError",
          "evalue": "ignored",
          "traceback": [
            "\u001b[0;31m---------------------------------------------------------------------------\u001b[0m",
            "\u001b[0;31mTypeError\u001b[0m                                 Traceback (most recent call last)",
            "\u001b[0;32m<ipython-input-19-b6d7a4db9a51>\u001b[0m in \u001b[0;36m<module>\u001b[0;34m()\u001b[0m\n\u001b[0;32m----> 1\u001b[0;31m \u001b[0ma\u001b[0m\u001b[0;34m[\u001b[0m\u001b[0;36m0\u001b[0m\u001b[0;34m]\u001b[0m \u001b[0;34m=\u001b[0m \u001b[0;36m100\u001b[0m\u001b[0;34m\u001b[0m\u001b[0m\n\u001b[0m",
            "\u001b[0;31mTypeError\u001b[0m: 'tuple' object does not support item assignment"
          ]
        }
      ]
    },
    {
      "metadata": {
        "id": "Lg3WJdHFCx6z",
        "colab_type": "text"
      },
      "cell_type": "markdown",
      "source": [
        "###딕셔너리"
      ]
    },
    {
      "metadata": {
        "id": "HTpqhzwMCkWV",
        "colab_type": "code",
        "colab": {}
      },
      "cell_type": "code",
      "source": [
        "score = { \"KIM\":90, \"LEE\":86, \"JUN\":95 }"
      ],
      "execution_count": 0,
      "outputs": []
    },
    {
      "metadata": {
        "id": "WaFygIPyDAKQ",
        "colab_type": "code",
        "colab": {
          "base_uri": "https://localhost:8080/",
          "height": 35
        },
        "outputId": "0ce9c803-5fa7-4843-8df6-728866025df8"
      },
      "cell_type": "code",
      "source": [
        "print(\"score['KIM'] ==\", score[\"KIM\"])"
      ],
      "execution_count": 23,
      "outputs": [
        {
          "output_type": "stream",
          "text": [
            "score['KIM'] == 90\n"
          ],
          "name": "stdout"
        }
      ]
    },
    {
      "metadata": {
        "id": "qZ6Qua5ADKVP",
        "colab_type": "code",
        "colab": {
          "base_uri": "https://localhost:8080/",
          "height": 35
        },
        "outputId": "7993e712-3cd3-4517-b184-4de79a02d124"
      },
      "cell_type": "code",
      "source": [
        "score"
      ],
      "execution_count": 24,
      "outputs": [
        {
          "output_type": "execute_result",
          "data": {
            "text/plain": [
              "{'JUN': 95, 'KIM': 90, 'LEE': 86}"
            ]
          },
          "metadata": {
            "tags": []
          },
          "execution_count": 24
        }
      ]
    },
    {
      "metadata": {
        "id": "oyLKeIVTDfSf",
        "colab_type": "code",
        "colab": {
          "base_uri": "https://localhost:8080/",
          "height": 35
        },
        "outputId": "86a97616-be44-4eb0-9857-96b176a97c0c"
      },
      "cell_type": "code",
      "source": [
        "score['HAN'] = 100\n",
        "# 딕셔너리는 입력한 순서대로 데이터가 들어가는 것이 아니므로 주의해야함\n",
        "print(score)"
      ],
      "execution_count": 25,
      "outputs": [
        {
          "output_type": "stream",
          "text": [
            "{'KIM': 90, 'LEE': 86, 'JUN': 95, 'HAN': 100}\n"
          ],
          "name": "stdout"
        }
      ]
    },
    {
      "metadata": {
        "id": "WDZ34VV2DtHZ",
        "colab_type": "code",
        "colab": {
          "base_uri": "https://localhost:8080/",
          "height": 71
        },
        "outputId": "4e83a8a6-740f-4d2d-9bf9-8915cd6eb0b2"
      },
      "cell_type": "code",
      "source": [
        "print(\"score key ==\", score.keys())\n",
        "print(\"score value ==\", score.values())\n",
        "print(\"score items ==\", score.items())"
      ],
      "execution_count": 26,
      "outputs": [
        {
          "output_type": "stream",
          "text": [
            "score key == dict_keys(['KIM', 'LEE', 'JUN', 'HAN'])\n",
            "score value == dict_values([90, 86, 95, 100])\n",
            "score items == dict_items([('KIM', 90), ('LEE', 86), ('JUN', 95), ('HAN', 100)])\n"
          ],
          "name": "stdout"
        }
      ]
    },
    {
      "metadata": {
        "id": "6vt4-PQ5EW9y",
        "colab_type": "text"
      },
      "cell_type": "markdown",
      "source": [
        "###문자열"
      ]
    },
    {
      "metadata": {
        "id": "KISb75iTEHEn",
        "colab_type": "code",
        "colab": {}
      },
      "cell_type": "code",
      "source": [
        "a = \"A73,CD\""
      ],
      "execution_count": 0,
      "outputs": []
    },
    {
      "metadata": {
        "id": "nf_e-Uu0EcRB",
        "colab_type": "code",
        "colab": {
          "base_uri": "https://localhost:8080/",
          "height": 35
        },
        "outputId": "ea166fee-4958-46a8-9b24-4acc8b5ffffe"
      },
      "cell_type": "code",
      "source": [
        "a[1]"
      ],
      "execution_count": 28,
      "outputs": [
        {
          "output_type": "execute_result",
          "data": {
            "text/plain": [
              "'7'"
            ]
          },
          "metadata": {
            "tags": []
          },
          "execution_count": 28
        }
      ]
    },
    {
      "metadata": {
        "id": "ua-xv2bXEdL6",
        "colab_type": "code",
        "colab": {
          "base_uri": "https://localhost:8080/",
          "height": 35
        },
        "outputId": "b4b96694-35bb-4557-9deb-fa904e102e3e"
      },
      "cell_type": "code",
      "source": [
        "a = a + ', EFG'\n",
        "a"
      ],
      "execution_count": 30,
      "outputs": [
        {
          "output_type": "execute_result",
          "data": {
            "text/plain": [
              "'A73,CD, EFG, EFG'"
            ]
          },
          "metadata": {
            "tags": []
          },
          "execution_count": 30
        }
      ]
    },
    {
      "metadata": {
        "id": "40k1rrkKEk-g",
        "colab_type": "code",
        "colab": {
          "base_uri": "https://localhost:8080/",
          "height": 35
        },
        "outputId": "ccb1e6ba-38fa-4e5b-f4ef-69cb9cf27811"
      },
      "cell_type": "code",
      "source": [
        "b = a.split(',')\n",
        "print(b)"
      ],
      "execution_count": 31,
      "outputs": [
        {
          "output_type": "stream",
          "text": [
            "['A73', 'CD', ' EFG', ' EFG']\n"
          ],
          "name": "stdout"
        }
      ]
    },
    {
      "metadata": {
        "id": "LMBYWuHzE0Mj",
        "colab_type": "code",
        "colab": {
          "base_uri": "https://localhost:8080/",
          "height": 35
        },
        "outputId": "5813c0cb-9129-46c8-cf0a-742995e5c0f5"
      },
      "cell_type": "code",
      "source": [
        "a[:3]"
      ],
      "execution_count": 32,
      "outputs": [
        {
          "output_type": "execute_result",
          "data": {
            "text/plain": [
              "'A73'"
            ]
          },
          "metadata": {
            "tags": []
          },
          "execution_count": 32
        }
      ]
    },
    {
      "metadata": {
        "id": "r2F6aw1AF690",
        "colab_type": "code",
        "colab": {
          "base_uri": "https://localhost:8080/",
          "height": 35
        },
        "outputId": "f109f9a3-f67e-4314-fc6a-58dfe0613567"
      },
      "cell_type": "code",
      "source": [
        "a[:-4]"
      ],
      "execution_count": 33,
      "outputs": [
        {
          "output_type": "execute_result",
          "data": {
            "text/plain": [
              "'A73,CD, EFG,'"
            ]
          },
          "metadata": {
            "tags": []
          },
          "execution_count": 33
        }
      ]
    },
    {
      "metadata": {
        "id": "xyGjFCfSF-xw",
        "colab_type": "code",
        "colab": {}
      },
      "cell_type": "code",
      "source": [
        " a = [ 10, 20, 30, 40 , 50 ]"
      ],
      "execution_count": 0,
      "outputs": []
    },
    {
      "metadata": {
        "id": "dbfohsl5GXmH",
        "colab_type": "code",
        "colab": {}
      },
      "cell_type": "code",
      "source": [
        " b = ( 10, 20, 30, 40 , 50 )"
      ],
      "execution_count": 0,
      "outputs": []
    },
    {
      "metadata": {
        "id": "RKo0ff5WGbdX",
        "colab_type": "code",
        "colab": {}
      },
      "cell_type": "code",
      "source": [
        " c = { \"KIM\":90, \"LEE\":80 }"
      ],
      "execution_count": 0,
      "outputs": []
    },
    {
      "metadata": {
        "id": "q39kylKaGniN",
        "colab_type": "code",
        "colab": {}
      },
      "cell_type": "code",
      "source": [
        "d = \"Seoul, Korea\""
      ],
      "execution_count": 0,
      "outputs": []
    },
    {
      "metadata": {
        "id": "DGh2f80cGqQj",
        "colab_type": "code",
        "colab": {}
      },
      "cell_type": "code",
      "source": [
        "e = [ [100, 200], [300, 400], [500, 600]]"
      ],
      "execution_count": 0,
      "outputs": []
    },
    {
      "metadata": {
        "id": "KRrVMZXRGwoo",
        "colab_type": "code",
        "colab": {
          "base_uri": "https://localhost:8080/",
          "height": 53
        },
        "outputId": "9eadcc0f-84ba-49ef-eba0-b7f6e709595e"
      },
      "cell_type": "code",
      "source": [
        "print(type(a), type(b), type(c), type(d), type(e))\n",
        "print(len(a), len(b), len(c), len(d), len(e))"
      ],
      "execution_count": 40,
      "outputs": [
        {
          "output_type": "stream",
          "text": [
            "<class 'list'> <class 'tuple'> <class 'dict'> <class 'str'> <class 'list'>\n",
            "5 5 2 12 3\n"
          ],
          "name": "stdout"
        }
      ]
    },
    {
      "metadata": {
        "id": "6ogObBIqHLvW",
        "colab_type": "code",
        "colab": {
          "base_uri": "https://localhost:8080/",
          "height": 172
        },
        "outputId": "2df5bddd-6f8a-4bd4-e5ef-66dea38397d4"
      },
      "cell_type": "code",
      "source": [
        "print(size(e))"
      ],
      "execution_count": 41,
      "outputs": [
        {
          "output_type": "error",
          "ename": "NameError",
          "evalue": "ignored",
          "traceback": [
            "\u001b[0;31m---------------------------------------------------------------------------\u001b[0m",
            "\u001b[0;31mNameError\u001b[0m                                 Traceback (most recent call last)",
            "\u001b[0;32m<ipython-input-41-034bf5a03726>\u001b[0m in \u001b[0;36m<module>\u001b[0;34m()\u001b[0m\n\u001b[0;32m----> 1\u001b[0;31m \u001b[0mprint\u001b[0m\u001b[0;34m(\u001b[0m\u001b[0msize\u001b[0m\u001b[0;34m(\u001b[0m\u001b[0me\u001b[0m\u001b[0;34m)\u001b[0m\u001b[0;34m)\u001b[0m\u001b[0;34m\u001b[0m\u001b[0m\n\u001b[0m",
            "\u001b[0;31mNameError\u001b[0m: name 'size' is not defined"
          ]
        }
      ]
    },
    {
      "metadata": {
        "id": "gFUg1M_tHbVH",
        "colab_type": "code",
        "colab": {
          "base_uri": "https://localhost:8080/",
          "height": 35
        },
        "outputId": "29ff131b-6cab-4cd6-f0f2-8355fd171367"
      },
      "cell_type": "code",
      "source": [
        "a = \"Hello\"\n",
        "b = { \"KIM\":90, \"LEE\":80 }\n",
        "\n",
        "print(list(a), list(b.keys()), list(b.values()), list(b.items()))"
      ],
      "execution_count": 42,
      "outputs": [
        {
          "output_type": "stream",
          "text": [
            "['H', 'e', 'l', 'l', 'o'] ['KIM', 'LEE'] [90, 80] [('KIM', 90), ('LEE', 80)]\n"
          ],
          "name": "stdout"
        }
      ]
    },
    {
      "metadata": {
        "id": "uGx9mi0BH2rn",
        "colab_type": "code",
        "colab": {
          "base_uri": "https://localhost:8080/",
          "height": 35
        },
        "outputId": "f890989f-90e0-48ba-8751-f136553d8d2d"
      },
      "cell_type": "code",
      "source": [
        "str(3.14)"
      ],
      "execution_count": 43,
      "outputs": [
        {
          "output_type": "execute_result",
          "data": {
            "text/plain": [
              "'3.14'"
            ]
          },
          "metadata": {
            "tags": []
          },
          "execution_count": 43
        }
      ]
    },
    {
      "metadata": {
        "id": "dqte-aX7ITNw",
        "colab_type": "code",
        "colab": {
          "base_uri": "https://localhost:8080/",
          "height": 35
        },
        "outputId": "dbcb3cbe-7aa2-434a-ee11-d415f40094a8"
      },
      "cell_type": "code",
      "source": [
        "str('100')"
      ],
      "execution_count": 44,
      "outputs": [
        {
          "output_type": "execute_result",
          "data": {
            "text/plain": [
              "'100'"
            ]
          },
          "metadata": {
            "tags": []
          },
          "execution_count": 44
        }
      ]
    },
    {
      "metadata": {
        "id": "ouhRG_nOIVW2",
        "colab_type": "code",
        "colab": {
          "base_uri": "https://localhost:8080/",
          "height": 35
        },
        "outputId": "b15ae92c-c068-4115-efb4-6da4a343907e"
      },
      "cell_type": "code",
      "source": [
        "str([1, 2, 3])"
      ],
      "execution_count": 45,
      "outputs": [
        {
          "output_type": "execute_result",
          "data": {
            "text/plain": [
              "'[1, 2, 3]'"
            ]
          },
          "metadata": {
            "tags": []
          },
          "execution_count": 45
        }
      ]
    },
    {
      "metadata": {
        "id": "JLWJ84eqIXAP",
        "colab_type": "code",
        "colab": {
          "base_uri": "https://localhost:8080/",
          "height": 35
        },
        "outputId": "e97fdad8-3280-4f24-8050-68f302936b7c"
      },
      "cell_type": "code",
      "source": [
        "int('100')"
      ],
      "execution_count": 46,
      "outputs": [
        {
          "output_type": "execute_result",
          "data": {
            "text/plain": [
              "100"
            ]
          },
          "metadata": {
            "tags": []
          },
          "execution_count": 46
        }
      ]
    },
    {
      "metadata": {
        "id": "Idnf28P0IYuT",
        "colab_type": "code",
        "colab": {
          "base_uri": "https://localhost:8080/",
          "height": 35
        },
        "outputId": "d1207001-2241-4c99-adce-95a737386a67"
      },
      "cell_type": "code",
      "source": [
        "int(3.14)"
      ],
      "execution_count": 47,
      "outputs": [
        {
          "output_type": "execute_result",
          "data": {
            "text/plain": [
              "3"
            ]
          },
          "metadata": {
            "tags": []
          },
          "execution_count": 47
        }
      ]
    }
  ]
}